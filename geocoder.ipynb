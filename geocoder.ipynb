{
 "metadata": {
  "language_info": {
   "codemirror_mode": {
    "name": "ipython",
    "version": 3
   },
   "file_extension": ".py",
   "mimetype": "text/x-python",
   "name": "python",
   "nbconvert_exporter": "python",
   "pygments_lexer": "ipython3",
   "version": "3.8.3-final"
  },
  "orig_nbformat": 2,
  "kernelspec": {
   "name": "python38364bittwyprojectcondad5d61421a2c74642a4267886473fb054",
   "display_name": "Python 3.8.3 64-bit ('twyproject': conda)"
  }
 },
 "nbformat": 4,
 "nbformat_minor": 2,
 "cells": [
  {
   "cell_type": "code",
   "execution_count": 39,
   "metadata": {},
   "outputs": [],
   "source": [
    "# 1\n",
    "\n",
    "from opencage.geocoder import OpenCageGeocode\n",
    "from pprint import pprint\n",
    "import pandas as pd\n",
    "import opencage\n",
    "import time\n",
    "import plotly.express as px \n",
    "# import nbformat"
   ]
  },
  {
   "cell_type": "code",
   "execution_count": 3,
   "metadata": {},
   "outputs": [
    {
     "output_type": "execute_result",
     "data": {
      "text/plain": "\"Example snippet to invoke api query = 'place name'    \\nresults = geocoder.geocode(query)\\n\\npprint(results)\""
     },
     "metadata": {},
     "execution_count": 3
    }
   ],
   "source": [
    "# 2\n",
    "\n",
    "key = ''\n",
    "# get free api key from:  https://opencagedata.com\n",
    "\n",
    "geocoder = OpenCageGeocode(key)\n",
    "\n",
    "\"\"\"Example snippet to invoke api \\\n",
    "query = 'place name'    \n",
    "results = geocoder.geocode(query)\n",
    "\n",
    "pprint(results)\"\"\"\n"
   ]
  },
  {
   "cell_type": "code",
   "execution_count": 4,
   "metadata": {},
   "outputs": [],
   "source": [
    "# 3 only in case we have previous output saved\n",
    "# action = input(\"Are you running this script for the first time(yes or no)?\")\n",
    "def tweets_load():\n",
    "    # loads stored csv file into DataFrame.\n",
    "    data_file = pd.read_csv(\"\")\n",
    "    return data_file\n",
    "\n",
    "def coords_load():\n",
    "    coord_file = pd.read_csv(\"\")\n",
    "    return coord_file"
   ]
  },
  {
   "cell_type": "code",
   "execution_count": null,
   "metadata": {
    "tags": []
   },
   "outputs": [],
   "source": [
    "# 4(when a new csv file is being used for the first time)\n",
    "main_tweets = tweets_load()\n",
    "\n",
    "# print(temple_tweets.head(2))  # Testing\n",
    "\n",
    "# Extracting and copying relevant data for geocoding into another panda\n",
    "loc_data = main_tweets[['user_location']].copy()\n",
    "print(loc_data)              # Testing\n",
    "\n",
    "list_places = loc_data['user_location'].unique().tolist()\n",
    "\n",
    "# print((list_places)), #.unique() stores only unique values.\n",
    "\n"
   ]
  },
  {
   "cell_type": "code",
   "execution_count": null,
   "metadata": {
    "tags": []
   },
   "outputs": [],
   "source": [
    "# 2500 calls per day limit as of 6th September 2020\n",
    "lat = {}\n",
    "lon = {}\n",
    "count = 0\n",
    "\n",
    "# empty dictionary to store lat , long\n",
    "# next time we call api REMEMBER to store lat and long in two different\n",
    "# dictionaries.\n",
    "for place in list_places:\n",
    "    try:\n",
    "        if isinstance(place, str) is True:\n",
    "            query = place\n",
    "            results = geocoder.geocode(query, no_annotations='1')\n",
    "            lat[query] = results[0]['geometry']['lat']\n",
    "            lon[query] = results[0]['geometry']['lng']\n",
    "            count = count + 1\n",
    "            if count % 10 == 0:\n",
    "            # to respect API call limit\n",
    "                time.sleep(1)\n",
    "        else:\n",
    "            lat[query] = ''\n",
    "            lon[query] = ''\n",
    "    except Exception:\n",
    "        lat[query] = ''\n",
    "        lon[query] = ''\n",
    "\n",
    "print('Length of locations:', len(lat), len(lon))"
   ]
  },
  {
   "cell_type": "code",
   "execution_count": null,
   "metadata": {
    "tags": []
   },
   "outputs": [],
   "source": [
    "# creating a duplicate column that we will overwrite next.\n",
    "loc_data['latitude'] = loc_data['user_location']\n",
    "loc_data['longitude'] = loc_data['user_location']\n",
    "print(loc_data.head())\n"
   ]
  },
  {
   "cell_type": "code",
   "execution_count": null,
   "metadata": {},
   "outputs": [],
   "source": [
    "# Using Pandas .map() to overwrite values in colum lat long with coreesponding dict values.\n",
    "loc_data['latitude'] = loc_data['latitude'].map(lat)\n",
    "loc_data['longitude'] = loc_data['longitude'].map(lon)\n",
    "\n"
   ]
  },
  {
   "cell_type": "code",
   "execution_count": null,
   "metadata": {},
   "outputs": [],
   "source": [
    "# saving file for later use\n",
    "loc_data.to_csv('')"
   ]
  },
  {
   "cell_type": "code",
   "execution_count": 6,
   "metadata": {},
   "outputs": [],
   "source": [
    "cords_data = coords_load()\n",
    "cords_data.head()"
   ]
  },
  {
   "cell_type": "code",
   "execution_count": 10,
   "metadata": {},
   "outputs": [
    {
     "output_type": "execute_result",
     "data": {
      "text/plain": "                                           Hash_text user_screen_name\n0                 ['RahulGandhi', 1, 'RamMandir', 2]  FinancialXpress\n1   ['JaiShreeRam', 1, 'RamMandir', 2, 'Ayodhya', 3]     sonallsuryav\n2  ['JaiShreeRam', 1, 'RamMandir', 2, 'AyodhyaBho...      anshul_1111\n3                 ['JaiShreeRam', 1, 'RamMandir', 2]  bhanupratapbala\n4  ['BhumiPujan', 1, 'RamMandir', 2, 'JaiShriRam'...     theromimehta",
      "text/html": "<div>\n<style scoped>\n    .dataframe tbody tr th:only-of-type {\n        vertical-align: middle;\n    }\n\n    .dataframe tbody tr th {\n        vertical-align: top;\n    }\n\n    .dataframe thead th {\n        text-align: right;\n    }\n</style>\n<table border=\"1\" class=\"dataframe\">\n  <thead>\n    <tr style=\"text-align: right;\">\n      <th></th>\n      <th>Hash_text</th>\n      <th>user_screen_name</th>\n    </tr>\n  </thead>\n  <tbody>\n    <tr>\n      <th>0</th>\n      <td>['RahulGandhi', 1, 'RamMandir', 2]</td>\n      <td>FinancialXpress</td>\n    </tr>\n    <tr>\n      <th>1</th>\n      <td>['JaiShreeRam', 1, 'RamMandir', 2, 'Ayodhya', 3]</td>\n      <td>sonallsuryav</td>\n    </tr>\n    <tr>\n      <th>2</th>\n      <td>['JaiShreeRam', 1, 'RamMandir', 2, 'AyodhyaBho...</td>\n      <td>anshul_1111</td>\n    </tr>\n    <tr>\n      <th>3</th>\n      <td>['JaiShreeRam', 1, 'RamMandir', 2]</td>\n      <td>bhanupratapbala</td>\n    </tr>\n    <tr>\n      <th>4</th>\n      <td>['BhumiPujan', 1, 'RamMandir', 2, 'JaiShriRam'...</td>\n      <td>theromimehta</td>\n    </tr>\n  </tbody>\n</table>\n</div>"
     },
     "metadata": {},
     "execution_count": 10
    }
   ],
   "source": [
    "new_data = main_tweets[['Hash_text', 'user_screen_name']].copy()\n",
    "map_data = pd.concat([cords_data, new_data], axis=1)\n"
   ]
  },
  {
   "cell_type": "code",
   "execution_count": 31,
   "metadata": {},
   "outputs": [],
   "source": [
    "map_data = pd.concat([cords_data, new_data], axis=1)\n"
   ]
  },
  {
   "cell_type": "code",
   "execution_count": 38,
   "metadata": {},
   "outputs": [
    {
     "output_type": "execute_result",
     "data": {
      "text/plain": "Unnamed: 0            int64\nuser_location        object\nlatitude            float64\nlongitude           float64\nHash_text            object\nuser_screen_name     object\ndtype: object"
     },
     "metadata": {},
     "execution_count": 38
    }
   ],
   "source": [
    "map_data.dtypes"
   ]
  },
  {
   "cell_type": "code",
   "execution_count": 35,
   "metadata": {},
   "outputs": [],
   "source": [
    "map_data.user_location.fillna('Inaccurate', inplace = True)\n",
    "# fill NaN values with above string.\n",
    "map_data['latitude'] = map_data.latitude.astype('float64')\n",
    "map_data['longitude'] = map_data.longitude.astype('float64')\n"
   ]
  },
  {
   "cell_type": "code",
   "execution_count": 36,
   "metadata": {},
   "outputs": [],
   "source": [
    "fig = px.scatter_mapbox(map_data, lat=\"latitude\", lon=\"longitude\",\n",
    "                        color=\"user_location\", hover_name='user_screen_name',\n",
    "                        hover_data=['Hash_text'], zoom=12)"
   ]
  },
  {
   "cell_type": "code",
   "execution_count": 40,
   "metadata": {},
   "outputs": [
    {
     "output_type": "display_data",
     "data": {
      "application/vnd.plotly.v1+json": {
       "config": {
        "plotlyServerURL": "https://plot.ly"
       },
       "data": [
        {
         "customdata": [
          [
           "['RahulGandhi', 1, 'RamMandir', 2]"
          ],
          [
           "['RamMandir', 1]"
          ],
          [
           "['JaiShriRam', 1, 'RamMandir', 2, 'AyodhyaBhoomipoojan', 3, 'Ayodhya', 4, 'RamMandirAyodhya', 5, 'राममंदिर', 6]"
          ],
          [
           "['AyodhyaBhoomipoojan', 1, 'AyodhyaRamMandir', 2, 'RamMandir', 3, 'JaiSriRam', 4, 'TheDcVerma', 5]"
          ],
          [
           "['RamMandir', 1, 'Ayodhya', 2]"
          ],
          [
           "['JaiShreeRam', 1, 'AyodhyaBhoomipoojan', 2, 'राममंदिर', 3, 'RamMandir', 4, 'AyodhyaRamMandir', 5, 'BhumiPujan', 6, 'Ayodhya', 7]"
          ],
          [
           "['Justasking', 1, 'RamMandir', 2, 'August5', 3]"
          ],
          [
           "['RamMandir', 1, 'BabriZindaHai', 2]"
          ],
          [
           "['JaiShreeRam', 1, 'पधारो_राम_अयोध्या_धाम', 2, 'RamMandir', 3, 'Ayodhya', 4]"
          ],
          [
           "['burnol', 1, 'RamMandir', 2, 'Ayodhya', 3]"
          ]
         ],
         "hovertemplate": "<b>%{hovertext}</b><br><br>user_location=New Delhi, India<br>latitude=%{lat}<br>longitude=%{lon}<br>Hash_text=%{customdata[0]}<extra></extra>",
         "hovertext": [
          "FinancialXpress",
          "CmdeJetly",
          "DrGunjita",
          "TheDcVerma",
          "sunnydg23",
          "ialokkushwaha",
          "ItsmineAs",
          "NabiyaKhan11",
          "ErsantoshKr4",
          "chesterankit"
         ],
         "lat": [
          28.613895399999997,
          28.613895399999997,
          28.613895399999997,
          28.613895399999997,
          28.613895399999997,
          28.613895399999997,
          28.613895399999997,
          28.613895399999997,
          28.613895399999997,
          28.613895399999997
         ],
         "legendgroup": "New Delhi, India",
         "lon": [
          77.2090057,
          77.2090057,
          77.2090057,
          77.2090057,
          77.2090057,
          77.2090057,
          77.2090057,
          77.2090057,
          77.2090057,
          77.2090057
         ],
         "marker": {
          "color": "#636efa"
         },
         "mode": "markers",
         "name": "New Delhi, India",
         "showlegend": true,
         "subplot": "mapbox",
         "type": "scattermapbox"
        },
        {
         "customdata": [
          [
           "['JaiShreeRam', 1, 'RamMandir', 2, 'Ayodhya', 3]"
          ],
          [
           "['RamMandir', 1]"
          ]
         ],
         "hovertemplate": "<b>%{hovertext}</b><br><br>user_location=भारत<br>latitude=%{lat}<br>longitude=%{lon}<br>Hash_text=%{customdata[0]}<extra></extra>",
         "hovertext": [
          "sonallsuryav",
          "RastraBhakth"
         ],
         "lat": [
          22.3511148,
          22.3511148
         ],
         "legendgroup": "भारत",
         "lon": [
          78.6677428,
          78.6677428
         ],
         "marker": {
          "color": "#EF553B"
         },
         "mode": "markers",
         "name": "भारत",
         "showlegend": true,
         "subplot": "mapbox",
         "type": "scattermapbox"
        },
        {
         "customdata": [
          [
           "['JaiShreeRam', 1, 'RamMandir', 2, 'AyodhyaBhoomipoojan', 3, 'Ayodhya', 4, 'AyodhyaRamMandir', 5]"
          ]
         ],
         "hovertemplate": "<b>%{hovertext}</b><br><br>user_location=Chandigarh, india🇮🇳<br>latitude=%{lat}<br>longitude=%{lon}<br>Hash_text=%{customdata[0]}<extra></extra>",
         "hovertext": [
          "anshul_1111"
         ],
         "lat": [
          30.733442100000005
         ],
         "legendgroup": "Chandigarh, india🇮🇳",
         "lon": [
          76.7797143
         ],
         "marker": {
          "color": "#00cc96"
         },
         "mode": "markers",
         "name": "Chandigarh, india🇮🇳",
         "showlegend": true,
         "subplot": "mapbox",
         "type": "scattermapbox"
        },
        {
         "customdata": [
          [
           "['JaiShreeRam', 1, 'RamMandir', 2]"
          ],
          [
           "['जयश्रीराम', 1, 'राम_नाम_सुखदाई', 2, 'RamMandir', 3]"
          ]
         ],
         "hovertemplate": "<b>%{hovertext}</b><br><br>user_location=Rajasthan, India<br>latitude=%{lat}<br>longitude=%{lon}<br>Hash_text=%{customdata[0]}<extra></extra>",
         "hovertext": [
          "bhanupratapbala",
          "raaj_abhii"
         ],
         "lat": [
          26.8105777,
          26.8105777
         ],
         "legendgroup": "Rajasthan, India",
         "lon": [
          73.76845490000001,
          73.76845490000001
         ],
         "marker": {
          "color": "#ab63fa"
         },
         "mode": "markers",
         "name": "Rajasthan, India",
         "showlegend": true,
         "subplot": "mapbox",
         "type": "scattermapbox"
        },
        {
         "customdata": [
          [
           "['BhumiPujan', 1, 'RamMandir', 2, 'JaiShriRam', 3]"
          ]
         ],
         "hovertemplate": "<b>%{hovertext}</b><br><br>user_location=Ghaziabad, India<br>latitude=%{lat}<br>longitude=%{lon}<br>Hash_text=%{customdata[0]}<extra></extra>",
         "hovertext": [
          "theromimehta"
         ],
         "lat": [
          28.711240999999998
         ],
         "legendgroup": "Ghaziabad, India",
         "lon": [
          77.4445372
         ],
         "marker": {
          "color": "#FFA15A"
         },
         "mode": "markers",
         "name": "Ghaziabad, India",
         "showlegend": true,
         "subplot": "mapbox",
         "type": "scattermapbox"
        },
        {
         "customdata": [
          [
           "['Pakistan', 1, 'RamMandirAyodhya', 2, 'BhumiPujan', 3, 'RamMandir', 4]"
          ]
         ],
         "hovertemplate": "<b>%{hovertext}</b><br><br>user_location=WONDERLAND<br>latitude=%{lat}<br>longitude=%{lon}<br>Hash_text=%{customdata[0]}<extra></extra>",
         "hovertext": [
          "JustMEtillDeath"
         ],
         "lat": [
          16.313187699999997
         ],
         "legendgroup": "WONDERLAND",
         "lon": [
          121.12974779999999
         ],
         "marker": {
          "color": "#19d3f3"
         },
         "mode": "markers",
         "name": "WONDERLAND",
         "showlegend": true,
         "subplot": "mapbox",
         "type": "scattermapbox"
        },
        {
         "customdata": [
          [
           "['Rafale', 1, 'RamMandir', 2, 'BoycottGodiMedia', 3]"
          ]
         ],
         "hovertemplate": "<b>%{hovertext}</b><br><br>user_location=malappuram<br>latitude=%{lat}<br>longitude=%{lon}<br>Hash_text=%{customdata[0]}<extra></extra>",
         "hovertext": [
          "afsalpkdhiu"
         ],
         "lat": [
          11.106844800000001
         ],
         "legendgroup": "malappuram",
         "lon": [
          76.1099551
         ],
         "marker": {
          "color": "#FF6692"
         },
         "mode": "markers",
         "name": "malappuram",
         "showlegend": true,
         "subplot": "mapbox",
         "type": "scattermapbox"
        },
        {
         "customdata": [
          [
           "['ThankYouModiForRamMandir', 1, 'JaiSiyaRam', 2, 'RamMandir', 3, 'AyodhyaBhoomipoojan', 4]"
          ],
          [
           "['RamMandir', 1]"
          ],
          [
           "['RamMandirAyodhya', 1, 'RamMandir', 2, 'JaiSiyaRam', 3, 'JaiSiyaRam', 4]"
          ],
          [
           "['ayodhya', 1, 'RamMandir', 2, 'india', 3, 'AyodhyaRamMandir', 4, 'JaiShriRam', 5, 'homes247', 6, 'mythology', 7]"
          ]
         ],
         "hovertemplate": "<b>%{hovertext}</b><br><br>user_location=Bengaluru, India<br>latitude=%{lat}<br>longitude=%{lon}<br>Hash_text=%{customdata[0]}<extra></extra>",
         "hovertext": [
          "AdityaOnTheWay",
          "tosrpatil",
          "mandarvidya",
          "homes247_in"
         ],
         "lat": [
          12.979119800000001,
          12.979119800000001,
          12.979119800000001,
          12.979119800000001
         ],
         "legendgroup": "Bengaluru, India",
         "lon": [
          77.5912997,
          77.5912997,
          77.5912997,
          77.5912997
         ],
         "marker": {
          "color": "#B6E880"
         },
         "mode": "markers",
         "name": "Bengaluru, India",
         "showlegend": true,
         "subplot": "mapbox",
         "type": "scattermapbox"
        },
        {
         "customdata": [
          [
           "['RamMandir', 1, 'JaiShriRam', 2]"
          ]
         ],
         "hovertemplate": "<b>%{hovertext}</b><br><br>user_location=Camp Nou ka Maidaan<br>latitude=%{lat}<br>longitude=%{lon}<br>Hash_text=%{customdata[0]}<extra></extra>",
         "hovertext": [
          "TheDesiBarca"
         ],
         "lat": [
          null
         ],
         "legendgroup": "Camp Nou ka Maidaan",
         "lon": [
          null
         ],
         "marker": {
          "color": "#FF97FF"
         },
         "mode": "markers",
         "name": "Camp Nou ka Maidaan",
         "showlegend": true,
         "subplot": "mapbox",
         "type": "scattermapbox"
        },
        {
         "customdata": [
          [
           "['RamMandir', 1]"
          ]
         ],
         "hovertemplate": "<b>%{hovertext}</b><br><br>user_location=Guwahati<br>latitude=%{lat}<br>longitude=%{lon}<br>Hash_text=%{customdata[0]}<extra></extra>",
         "hovertext": [
          "bijukrdeka"
         ],
         "lat": [
          26.1805978
         ],
         "legendgroup": "Guwahati",
         "lon": [
          91.753943
         ],
         "marker": {
          "color": "#FECB52"
         },
         "mode": "markers",
         "name": "Guwahati",
         "showlegend": true,
         "subplot": "mapbox",
         "type": "scattermapbox"
        },
        {
         "customdata": [
          [
           "['NewProfilePic', 1, 'JaiShreeRam', 2, 'RamMandir', 3]"
          ]
         ],
         "hovertemplate": "<b>%{hovertext}</b><br><br>user_location=Kolhapur, India<br>latitude=%{lat}<br>longitude=%{lon}<br>Hash_text=%{customdata[0]}<extra></extra>",
         "hovertext": [
          "AvdhutAFC"
         ],
         "lat": [
          null
         ],
         "legendgroup": "Kolhapur, India",
         "lon": [
          null
         ],
         "marker": {
          "color": "#636efa"
         },
         "mode": "markers",
         "name": "Kolhapur, India",
         "showlegend": true,
         "subplot": "mapbox",
         "type": "scattermapbox"
        },
        {
         "customdata": [
          [
           "['JaiShreeRam', 1, 'RamMandir', 2, 'AyodhyaBhoomipoojan', 3]"
          ],
          [
           "['RamMandir', 1, 'BhumiPujan', 2, 'BabriMasjidAwaitsJustice', 3, 'BabriZindaHai', 4]"
          ],
          [
           "['JaiShreeRam', 1, 'RamMandir', 2, 'RamJanmabhoomi', 3, 'NarendraModi', 4, 'SiyaRam', 5]"
          ],
          [
           "['RamMandir', 1]"
          ],
          [
           "['RamMandirAyodhya', 1, 'पधारो_राम_अयोध्या_धाम', 2, 'RamMandir', 3]"
          ],
          [
           "['JaiShreeRam', 1, 'Ayodhya', 2, 'AyodhyaBhoomipoojan', 3, 'AyodhyaRamMandir', 4, 'RamMandir', 5, 'BabriMosque', 6, 'BabriMasjid', 7]"
          ],
          [
           "['RamMandir', 1]"
          ],
          [
           "['RamMandir', 1]"
          ],
          [
           "['hatersgonnahate', 1, 'RamMandir', 2, 'RamBhumiPujan', 3, 'aajtak', 4, 'AajKiBaat', 5, 'AmitShah', 6, 'NarendraModi', 7, 'YogiAdityanath', 8]"
          ],
          [
           "['HomeLifeAyurveda', 1, 'AyodhyaRamMandir', 2, 'Bhoomipooja', 3, 'jaishirram', 4, 'BhoomiPujanOn5August', 5, 'RamMandir', 6, 'RamTemple', 7, 'Ayodhya', 8, 'India', 9]"
          ],
          [
           "['RamMandir', 1, 'Ayodhya', 2]"
          ],
          [
           "['burnol', 1, 'burnol', 2, 'RamMandirAyodhya', 3, 'RamMandir', 4, 'RamJanmabhoomi', 5]"
          ],
          [
           "['RamMandirAyodhya', 1, 'RamMandir', 2]"
          ],
          [
           "['RamMandir', 1]"
          ],
          [
           "['RamMandirAyodhya', 1, 'RamMandir4Bharat', 2, 'RamMandir', 3]"
          ],
          [
           "['RamMandir', 1]"
          ],
          [
           "['JaiShriRam', 1, 'RamMandir', 2, 'Ayodhya', 3, 'AyodhyaRamMandir', 4, 'AyodhyaBhoomipoojan', 5, 'BollywoodMafia', 6, 'Bollywood', 7]"
          ],
          [
           "['RamMandir', 1, 'JaiShreeRam', 2, 'ஜெய்ஸ்ரீராம்', 3]"
          ],
          [
           "['JaiShreeRam', 1, 'RamMandir', 2, 'AyodhyaBhoomipoojan', 3, 'AyodhyaRamMandir', 4, 'Ayodhya', 5, 'जय_जय_श्री_राम', 6]"
          ],
          [
           "['RamMandir', 1, 'RamTemple', 2, '5thAugustBlackDay', 3]"
          ],
          [
           "['RamMandir', 1, 'HarHarMahadev', 2, 'iabhivats', 3]"
          ],
          [
           "['JaiShreeRam', 1, 'RamMandir', 2]"
          ],
          [
           "['RamMandir', 1, 'JaiShreeRam', 2, 'Ayodhya', 3, 'AyodhyaRamMandir', 4, 'TamilPrideRavanaa', 5, 'LandOfRavana', 6]"
          ],
          [
           "['RamMandir', 1, '5thAugust', 2, 'AyodhyaBhoomipoojan', 3]"
          ],
          [
           "['RamMandir', 1, 'Ayodhya', 2, 'राममंदिर_से_रामराज्य', 3, 'RamMandir', 4]"
          ],
          [
           "['JaiShriRam', 1, 'RamMandir', 2]"
          ],
          [
           "['पधारो_राम_अयोध्या_धाम', 1, 'JaiShreeRam', 2, 'RamMandir', 3, 'जयश्रीराम', 4, 'रामराज्य_उद्घोष', 5, '5_अगस्त_भगवा_दिवस', 6, 'JaiShriRam', 7]"
          ],
          [
           "['RamMandir', 1]"
          ],
          [
           "['RamMandir', 1, 'RamMandirAyodhya', 2]"
          ],
          [
           "['Ladakh', 1, 'Kashmir', 2, '5thAugustBlackDay', 3, 'RamMandir', 4]"
          ],
          [
           "['ModiHaiTohMumkinHai', 1, 'RamMandirAyodhya', 2, 'RamMandir4Bharat', 3, 'RamMandir', 4, 'JaiShreeRam', 5]"
          ],
          [
           "['RamMandir', 1, 'Kedarnath', 2]"
          ],
          [
           "['JaiShreeRam', 1, 'RamMandir', 2]"
          ],
          [
           "['SushantSinghRajput', 1, 'SSR', 2, 'CBI', 3, 'WhoKilledSushant', 4, 'RamMandir', 5, 'Ramrajya', 6]"
          ],
          [
           "['SushanthSinghRajput', 1, 'SCForSushant', 2, 'RamMandir', 3]"
          ],
          [
           "['RamMandir', 1, 'AyodhyaBhoomipoojan', 2, 'JaiShreeRam', 3]"
          ],
          [
           "['JaiShreeRam', 1, 'AyodhyaBhoomipoojan', 2, 'AyodhyaRamMandir', 3, 'RamMandir', 4, 'RamBhumiPujan', 5]"
          ],
          [
           "['RamMandir', 1, 'Amaravathi', 2, 'Amaravathi', 3]"
          ],
          [
           "['RamMandir', 1]"
          ],
          [
           "['JaiShreeRam', 1, 'AyodhyaRamMandir', 2, 'RamMandir', 3]"
          ],
          [
           "['RamMandir', 1, 'RamMandirAyodhya', 2, 'AyodhyaBhoomipoojan', 3]"
          ],
          [
           "['kiddricca', 1, 'COVID19', 2, 'wednesdaymorning', 3, 'artcaffe', 4, 'Beirut', 5, 'KeaDrive', 6, 'Lebanon', 7, 'comecloser', 8, 'ginacaranoisoverparty', 9, 'ExaCARAT', 10, 'RamMandir', 11, 'ripwanchalerm', 12, 'koroba', 13]"
          ]
         ],
         "hovertemplate": "<b>%{hovertext}</b><br><br>user_location=Inaccurate<br>latitude=%{lat}<br>longitude=%{lon}<br>Hash_text=%{customdata[0]}<extra></extra>",
         "hovertext": [
          "AyushiS18944456",
          "singhr07",
          "taurus_queen326",
          "thevyshakthilak",
          "SaniRoy375",
          "Nishachar_hu",
          "Drsarikamohta",
          "SiddharthPbhatt",
          "Ishita54198773",
          "HomeLifeAyurve2",
          "know_hypocrisy",
          "Shashwa90744563",
          "Ishant3007",
          "iamrealanurag",
          "Pagal_Indian",
          "AkhomReal",
          "Tinder_Joy",
          "CAmaragathamsn",
          "vaibhavt_3",
          "Almond687",
          "iabhivats",
          "satyakumar_y",
          "TWTBJPTelugu",
          "RajniGoswami8",
          "Ajay33604622",
          "Arun_RE1002",
          "SnBishnoi3",
          "SiddharthGadha5",
          "Sanket86289485",
          "Almond687",
          "Ayushk08",
          "dassnikhil",
          "RichaShuklaSays",
          "rk_kingdom1",
          "SharmaSamradhi",
          "Seemitha4",
          "punit_devadiga",
          "drfortelugu",
          "TinieGukki",
          "SelvaYadavKris1",
          "Being_Selfissh",
          "FUNMITO20"
         ],
         "lat": [
          null,
          null,
          null,
          null,
          null,
          null,
          null,
          null,
          null,
          null,
          null,
          null,
          null,
          null,
          null,
          null,
          null,
          null,
          null,
          null,
          null,
          null,
          null,
          null,
          null,
          null,
          null,
          null,
          null,
          null,
          null,
          null,
          null,
          null,
          null,
          null,
          null,
          null,
          null,
          null,
          null,
          null
         ],
         "legendgroup": "Inaccurate",
         "lon": [
          null,
          null,
          null,
          null,
          null,
          null,
          null,
          null,
          null,
          null,
          null,
          null,
          null,
          null,
          null,
          null,
          null,
          null,
          null,
          null,
          null,
          null,
          null,
          null,
          null,
          null,
          null,
          null,
          null,
          null,
          null,
          null,
          null,
          null,
          null,
          null,
          null,
          null,
          null,
          null,
          null,
          null
         ],
         "marker": {
          "color": "#EF553B"
         },
         "mode": "markers",
         "name": "Inaccurate",
         "showlegend": true,
         "subplot": "mapbox",
         "type": "scattermapbox"
        },
        {
         "customdata": [
          [
           "['ThankYouModiForRamMandir', 1, 'RamMandir', 2, 'Ayodhya', 3, 'NarendraModi', 4, 'JaiSiyaRam', 5]"
          ],
          [
           "['Bhuleshwar', 1, 'Ambani', 2, 'JaiShriRam', 3, 'RamMandir', 4]"
          ],
          [
           "['RAMMANDIR', 1, 'जयश्रीराम', 2, 'JaiShreeRam', 3, 'पधारो_राम_अयोध्या_धाम', 4]"
          ],
          [
           "['RamMandir', 1]"
          ],
          [
           "['Aajtak', 1, 'burnol', 2, 'Ayodhya', 3, 'RamMandir', 4, 'RamMandirAyodhya', 5]"
          ],
          [
           "['RamMandir', 1]"
          ],
          [
           "['RamMandir', 1]"
          ]
         ],
         "hovertemplate": "<b>%{hovertext}</b><br><br>user_location=Mumbai, India<br>latitude=%{lat}<br>longitude=%{lon}<br>Hash_text=%{customdata[0]}<extra></extra>",
         "hovertext": [
          "vinayak_live",
          "mumnowandthen",
          "amartiwari04",
          "Ratinsharma76",
          "bigdreams2002",
          "akshaytarfe",
          "YouTubesanskar"
         ],
         "lat": [
          18.9387711,
          18.9387711,
          18.9387711,
          18.9387711,
          18.9387711,
          18.9387711,
          18.9387711
         ],
         "legendgroup": "Mumbai, India",
         "lon": [
          72.8353355,
          72.8353355,
          72.8353355,
          72.8353355,
          72.8353355,
          72.8353355,
          72.8353355
         ],
         "marker": {
          "color": "#00cc96"
         },
         "mode": "markers",
         "name": "Mumbai, India",
         "showlegend": true,
         "subplot": "mapbox",
         "type": "scattermapbox"
        },
        {
         "customdata": [
          [
           "['RamMandir', 1]"
          ]
         ],
         "hovertemplate": "<b>%{hovertext}</b><br><br>user_location=Navi Mumbai, India<br>latitude=%{lat}<br>longitude=%{lon}<br>Hash_text=%{customdata[0]}<extra></extra>",
         "hovertext": [
          "RebornSharma"
         ],
         "lat": [
          19.0308262
         ],
         "legendgroup": "Navi Mumbai, India",
         "lon": [
          73.0198537
         ],
         "marker": {
          "color": "#ab63fa"
         },
         "mode": "markers",
         "name": "Navi Mumbai, India",
         "showlegend": true,
         "subplot": "mapbox",
         "type": "scattermapbox"
        },
        {
         "customdata": [
          [
           "['Ayodhya', 1, 'पधारो_राम_अयोध्या_धाम', 2, 'JaiShreeRam', 3, 'RamMandir', 4]"
          ]
         ],
         "hovertemplate": "<b>%{hovertext}</b><br><br>user_location=Dubai, United Arab Emirates<br>latitude=%{lat}<br>longitude=%{lon}<br>Hash_text=%{customdata[0]}<extra></extra>",
         "hovertext": [
          "KRRRRISSSSH"
         ],
         "lat": [
          25.2047397
         ],
         "legendgroup": "Dubai, United Arab Emirates",
         "lon": [
          55.270706499999996
         ],
         "marker": {
          "color": "#FFA15A"
         },
         "mode": "markers",
         "name": "Dubai, United Arab Emirates",
         "showlegend": true,
         "subplot": "mapbox",
         "type": "scattermapbox"
        },
        {
         "customdata": [
          [
           "['5_अगस्त_भगवा_दिवस', 1, 'हिन्दुओं_का_मान_राम_मंदिर_निर्माण', 2, 'RamMandir', 3]"
          ],
          [
           "['BabriZindaHai', 1, 'ReturnBabrilandtoMuslims', 2, 'RamMandir', 3, 'RamMandirAyodhya', 4, 'RamJanmabhoomi', 5]"
          ]
         ],
         "hovertemplate": "<b>%{hovertext}</b><br><br>user_location=Maharashtra, India<br>latitude=%{lat}<br>longitude=%{lon}<br>Hash_text=%{customdata[0]}<extra></extra>",
         "hovertext": [
          "chitnis_om",
          "Gauravjani207"
         ],
         "lat": [
          19.531932,
          19.531932
         ],
         "legendgroup": "Maharashtra, India",
         "lon": [
          76.0554568,
          76.0554568
         ],
         "marker": {
          "color": "#19d3f3"
         },
         "mode": "markers",
         "name": "Maharashtra, India",
         "showlegend": true,
         "subplot": "mapbox",
         "type": "scattermapbox"
        },
        {
         "customdata": [
          [
           "['coronavirus', 1, 'RamMandir', 2, 'RamCharan', 3, 'ramisgodbutyouarenot', 4]"
          ]
         ],
         "hovertemplate": "<b>%{hovertext}</b><br><br>user_location=Canberra, Australian Capital<br>latitude=%{lat}<br>longitude=%{lon}<br>Hash_text=%{customdata[0]}<extra></extra>",
         "hovertext": [
          "arjunmatt"
         ],
         "lat": [
          -35.2975906
         ],
         "legendgroup": "Canberra, Australian Capital",
         "lon": [
          149.1012676
         ],
         "marker": {
          "color": "#FF6692"
         },
         "mode": "markers",
         "name": "Canberra, Australian Capital",
         "showlegend": true,
         "subplot": "mapbox",
         "type": "scattermapbox"
        },
        {
         "customdata": [
          [
           "['AyodhyaBhoomipoojan', 1, 'RamMandir', 2, 'JaiSiyaRam', 3]"
          ]
         ],
         "hovertemplate": "<b>%{hovertext}</b><br><br>user_location=new delhi<br>latitude=%{lat}<br>longitude=%{lon}<br>Hash_text=%{customdata[0]}<extra></extra>",
         "hovertext": [
          "Nikita98901280"
         ],
         "lat": [
          28.613895399999997
         ],
         "legendgroup": "new delhi",
         "lon": [
          77.2090057
         ],
         "marker": {
          "color": "#B6E880"
         },
         "mode": "markers",
         "name": "new delhi",
         "showlegend": true,
         "subplot": "mapbox",
         "type": "scattermapbox"
        },
        {
         "customdata": [
          [
           "['पधारो_राम_अयोध्या_धाम', 1, 'RamMandirAyodhya', 2, 'RamMandir', 3, 'SCForSushant', 4, 'CBIForSSRHomicideCase', 5, 'राम_नाम_सुखदाई', 6, 'श्रीराम', 7, 'राममंदिर', 8, 'CBIenquiry', 9]"
          ]
         ],
         "hovertemplate": "<b>%{hovertext}</b><br><br>user_location=gadhsisa<br>latitude=%{lat}<br>longitude=%{lon}<br>Hash_text=%{customdata[0]}<extra></extra>",
         "hovertext": [
          "chirag_rajput3"
         ],
         "lat": [
          23.101783800000003
         ],
         "legendgroup": "gadhsisa",
         "lon": [
          69.34187159999999
         ],
         "marker": {
          "color": "#FF97FF"
         },
         "mode": "markers",
         "name": "gadhsisa",
         "showlegend": true,
         "subplot": "mapbox",
         "type": "scattermapbox"
        },
        {
         "customdata": [
          [
           "['JaiSiyaRam', 1, 'RamMandir', 2, 'NarendraModi', 3]"
          ]
         ],
         "hovertemplate": "<b>%{hovertext}</b><br><br>user_location=India <br>latitude=%{lat}<br>longitude=%{lon}<br>Hash_text=%{customdata[0]}<extra></extra>",
         "hovertext": [
          "Vishaltarachan5"
         ],
         "lat": [
          22.3511148
         ],
         "legendgroup": "India ",
         "lon": [
          78.6677428
         ],
         "marker": {
          "color": "#FECB52"
         },
         "mode": "markers",
         "name": "India ",
         "showlegend": true,
         "subplot": "mapbox",
         "type": "scattermapbox"
        },
        {
         "customdata": [
          [
           "['जयश्रीराम', 1, 'JaiShriRam', 2, 'Ayodhya', 3, 'RamMandir', 4]"
          ]
         ],
         "hovertemplate": "<b>%{hovertext}</b><br><br>user_location=Siliguri....& other places<br>latitude=%{lat}<br>longitude=%{lon}<br>Hash_text=%{customdata[0]}<extra></extra>",
         "hovertext": [
          "amitdhanuka"
         ],
         "lat": [
          null
         ],
         "legendgroup": "Siliguri....& other places",
         "lon": [
          null
         ],
         "marker": {
          "color": "#636efa"
         },
         "mode": "markers",
         "name": "Siliguri....& other places",
         "showlegend": true,
         "subplot": "mapbox",
         "type": "scattermapbox"
        },
        {
         "customdata": [
          [
           "['Khanpur', 1, 'Ayodhya', 2, 'BhoomiPujan', 3, 'RamTemple', 4, 'RamMandir', 5, 'Gujarat', 6, 'Ahmedabad', 7, 'RamMandirBhumiPujan', 8]"
          ],
          [
           "['Gujarat', 1, 'ramlalla', 2, 'RamMandir', 3, 'RamMandirBhumiPujan', 4]"
          ]
         ],
         "hovertemplate": "<b>%{hovertext}</b><br><br>user_location=Ahmedabad, Gujarat<br>latitude=%{lat}<br>longitude=%{lon}<br>Hash_text=%{customdata[0]}<extra></extra>",
         "hovertext": [
          "ahmedabadmirror",
          "ahmedabadmirror"
         ],
         "lat": [
          23.0216238,
          23.0216238
         ],
         "legendgroup": "Ahmedabad, Gujarat",
         "lon": [
          72.5797068,
          72.5797068
         ],
         "marker": {
          "color": "#EF553B"
         },
         "mode": "markers",
         "name": "Ahmedabad, Gujarat",
         "showlegend": true,
         "subplot": "mapbox",
         "type": "scattermapbox"
        },
        {
         "customdata": [
          [
           "['RamMandir', 1, 'RamMandirAyodhya', 2, 'JaiShreeRam', 3]"
          ]
         ],
         "hovertemplate": "<b>%{hovertext}</b><br><br>user_location=Chennai, India<br>latitude=%{lat}<br>longitude=%{lon}<br>Hash_text=%{customdata[0]}<extra></extra>",
         "hovertext": [
          "tejagoud06"
         ],
         "lat": [
          13.0836939
         ],
         "legendgroup": "Chennai, India",
         "lon": [
          80.270186
         ],
         "marker": {
          "color": "#00cc96"
         },
         "mode": "markers",
         "name": "Chennai, India",
         "showlegend": true,
         "subplot": "mapbox",
         "type": "scattermapbox"
        },
        {
         "customdata": [
          [
           "['NarendraModi', 1, 'RamMandir', 2, 'Ayodhya', 3, 'AyodhyaBhoomipoojan', 4, 'राममंदिर', 5, 'AyodhyaRamMandir', 6, 'BhumiPujan', 7, '5AugustGoldenday', 8, 'RamMandir', 9]"
          ],
          [
           "['AyodhyaBhoomipoojan', 1, 'RamMandir', 2, 'kasmir', 3]"
          ]
         ],
         "hovertemplate": "<b>%{hovertext}</b><br><br>user_location=Ballia, India<br>latitude=%{lat}<br>longitude=%{lon}<br>Hash_text=%{customdata[0]}<extra></extra>",
         "hovertext": [
          "chowkidar_honey",
          "Mrkumardurgesh"
         ],
         "lat": [
          25.8779326,
          25.8779326
         ],
         "legendgroup": "Ballia, India",
         "lon": [
          84.1199593,
          84.1199593
         ],
         "marker": {
          "color": "#ab63fa"
         },
         "mode": "markers",
         "name": "Ballia, India",
         "showlegend": true,
         "subplot": "mapbox",
         "type": "scattermapbox"
        },
        {
         "customdata": [
          [
           "['ModiIn', 1, 'RamMandir', 2]"
          ],
          [
           "['RamMandir', 1]"
          ],
          [
           "['SaketGokhale', 1, 'HighCourt', 2, 'RamMandir', 3, 'Congress', 4]"
          ],
          [
           "['JaiShriRam', 1, 'JaiSiyaRam', 2, 'JaiShreeRam', 3, 'RamMandir', 4, 'RamMandirAyodhya', 5]"
          ],
          [
           "['RamMandir', 1]"
          ],
          [
           "['PMModi', 1, 'Ayodhya', 2, 'RamMandir', 3, 'RamMandirAyodhya', 4]"
          ],
          [
           "['August5blackday', 1, 'RamMandir', 2, 'KashmirSeigeDay', 3, 'DrKafeelKhan', 4]"
          ],
          [
           "['burnol', 1, 'RamMandir', 2, 'RamMandirAyodhya', 3]"
          ],
          [
           "['RamMandir', 1]"
          ],
          [
           "['goosebumps', 1, 'JaiShreeRam', 2, 'RamMandir', 3, 'RamMandirBhumiPujan', 4, 'NarendraModi', 5]"
          ],
          [
           "['RamMandir', 1, 'AyodhyaBhoomipoojan', 2]"
          ],
          [
           "['AyodhyaBhoomipoojan', 1, 'Ayodhya', 2, 'AyodhyaRamMandir', 3, 'RamMandir', 4, 'RamJanmabhoomi', 5]"
          ],
          [
           "['RamMandir', 1, '5thAugustGoldenDay', 2]"
          ],
          [
           "['SiyaRam', 1, 'Ayodhya', 2, 'RamMandir', 3, 'COVIDー19', 4, 'JaiShreeRam', 5]"
          ],
          [
           "['RamMandir', 1, 'Ayodhya', 2, 'AyodhyaRamMandir', 3, 'राममंदिर', 4, 'JaiShreeRam', 5, 'AyodhyaBhoomipoojan', 6, 'BhoomiPujan', 7, 'JaiShreeRam', 8, 'NarendraDamodardasModi', 9, 'NarendraModi', 10]"
          ],
          [
           "['RamMandir', 1, 'BhoomiPujan', 2, 'Ayodhya', 3, 'AyodhyaRamMandir', 4, 'narendarmodi', 5]"
          ],
          [
           "['RamMandir', 1, 'RamMandirAyodhya', 2]"
          ]
         ],
         "hovertemplate": "<b>%{hovertext}</b><br><br>user_location=India<br>latitude=%{lat}<br>longitude=%{lon}<br>Hash_text=%{customdata[0]}<extra></extra>",
         "hovertext": [
          "ABPNews",
          "605b0384698345d",
          "go4avinash",
          "jalebi9",
          "go4avinash",
          "WORLD_HAB",
          "anshulbhamra",
          "p_pratishtha",
          "Opinionsmater1",
          "thepincenezlady",
          "DisDatNothin",
          "suhan_in",
          "Debarshi09",
          "Main_Amitabh",
          "BBhawana15",
          "rohitjsarma",
          "Authorkashy2811"
         ],
         "lat": [
          22.3511148,
          22.3511148,
          22.3511148,
          22.3511148,
          22.3511148,
          22.3511148,
          22.3511148,
          22.3511148,
          22.3511148,
          22.3511148,
          22.3511148,
          22.3511148,
          22.3511148,
          22.3511148,
          22.3511148,
          22.3511148,
          22.3511148
         ],
         "legendgroup": "India",
         "lon": [
          78.6677428,
          78.6677428,
          78.6677428,
          78.6677428,
          78.6677428,
          78.6677428,
          78.6677428,
          78.6677428,
          78.6677428,
          78.6677428,
          78.6677428,
          78.6677428,
          78.6677428,
          78.6677428,
          78.6677428,
          78.6677428,
          78.6677428
         ],
         "marker": {
          "color": "#FFA15A"
         },
         "mode": "markers",
         "name": "India",
         "showlegend": true,
         "subplot": "mapbox",
         "type": "scattermapbox"
        },
        {
         "customdata": [
          [
           "['RamMandir', 1, 'Ayodhya', 2, 'AyodhyaBhoomipoojan', 3, 'MandirComingSoon', 4]"
          ]
         ],
         "hovertemplate": "<b>%{hovertext}</b><br><br>user_location=Dombivali<br>latitude=%{lat}<br>longitude=%{lon}<br>Hash_text=%{customdata[0]}<extra></extra>",
         "hovertext": [
          "sagar_kateri91"
         ],
         "lat": [
          19.1969686
         ],
         "legendgroup": "Dombivali",
         "lon": [
          73.07473540000001
         ],
         "marker": {
          "color": "#19d3f3"
         },
         "mode": "markers",
         "name": "Dombivali",
         "showlegend": true,
         "subplot": "mapbox",
         "type": "scattermapbox"
        },
        {
         "customdata": [
          [
           "['RamMandir', 1, 'AyodhyaBhoomipoojan', 2]"
          ]
         ],
         "hovertemplate": "<b>%{hovertext}</b><br><br>user_location=Cosmos<br>latitude=%{lat}<br>longitude=%{lon}<br>Hash_text=%{customdata[0]}<extra></extra>",
         "hovertext": [
          "Chakradhari_9"
         ],
         "lat": [
          -22.9078051
         ],
         "legendgroup": "Cosmos",
         "lon": [
          -43.6144915
         ],
         "marker": {
          "color": "#FF6692"
         },
         "mode": "markers",
         "name": "Cosmos",
         "showlegend": true,
         "subplot": "mapbox",
         "type": "scattermapbox"
        },
        {
         "customdata": [
          [
           "['RamMandir', 1]"
          ]
         ],
         "hovertemplate": "<b>%{hovertext}</b><br><br>user_location=Delhi, india<br>latitude=%{lat}<br>longitude=%{lon}<br>Hash_text=%{customdata[0]}<extra></extra>",
         "hovertext": [
          "YattiSoni"
         ],
         "lat": [
          28.6517178
         ],
         "legendgroup": "Delhi, india",
         "lon": [
          77.22193879999999
         ],
         "marker": {
          "color": "#B6E880"
         },
         "mode": "markers",
         "name": "Delhi, india",
         "showlegend": true,
         "subplot": "mapbox",
         "type": "scattermapbox"
        },
        {
         "customdata": [
          [
           "['RamMandir', 1, 'AyodhyaRamMandir', 2, 'Ayodhya', 3, 'AyodhyaBhoomipoojan', 4]"
          ]
         ],
         "hovertemplate": "<b>%{hovertext}</b><br><br>user_location=Chumantar Gali (DiaGon Alley)<br>latitude=%{lat}<br>longitude=%{lon}<br>Hash_text=%{customdata[0]}<extra></extra>",
         "hovertext": [
          "iChaturvediAbhi"
         ],
         "lat": [
          42.62655
         ],
         "legendgroup": "Chumantar Gali (DiaGon Alley)",
         "lon": [
          41.73808
         ],
         "marker": {
          "color": "#FF97FF"
         },
         "mode": "markers",
         "name": "Chumantar Gali (DiaGon Alley)",
         "showlegend": true,
         "subplot": "mapbox",
         "type": "scattermapbox"
        },
        {
         "customdata": [
          [
           "['RamMandir', 1]"
          ]
         ],
         "hovertemplate": "<b>%{hovertext}</b><br><br>user_location=Chennai<br>latitude=%{lat}<br>longitude=%{lon}<br>Hash_text=%{customdata[0]}<extra></extra>",
         "hovertext": [
          "karjk"
         ],
         "lat": [
          13.0836939
         ],
         "legendgroup": "Chennai",
         "lon": [
          80.270186
         ],
         "marker": {
          "color": "#FECB52"
         },
         "mode": "markers",
         "name": "Chennai",
         "showlegend": true,
         "subplot": "mapbox",
         "type": "scattermapbox"
        },
        {
         "customdata": [
          [
           "['RamMandir', 1, 'HagiaSophiaMosque', 2, 'Modi', 3, 'Erdogan', 4]"
          ]
         ],
         "hovertemplate": "<b>%{hovertext}</b><br><br>user_location=Jhang, Punjab, Pakistan<br>latitude=%{lat}<br>longitude=%{lon}<br>Hash_text=%{customdata[0]}<extra></extra>",
         "hovertext": [
          "thawbanmahmud"
         ],
         "lat": [
          33.6748125
         ],
         "legendgroup": "Jhang, Punjab, Pakistan",
         "lon": [
          72.69634930000001
         ],
         "marker": {
          "color": "#636efa"
         },
         "mode": "markers",
         "name": "Jhang, Punjab, Pakistan",
         "showlegend": true,
         "subplot": "mapbox",
         "type": "scattermapbox"
        },
        {
         "customdata": [
          [
           "['RamMandir', 1, 'RamMandirAyodhya', 2, 'JaiShriRam', 3, '5thAugustGoldenDay', 4]"
          ]
         ],
         "hovertemplate": "<b>%{hovertext}</b><br><br>user_location=next to electric socket <br>latitude=%{lat}<br>longitude=%{lon}<br>Hash_text=%{customdata[0]}<extra></extra>",
         "hovertext": [
          "vipul2777"
         ],
         "lat": [
          null
         ],
         "legendgroup": "next to electric socket ",
         "lon": [
          null
         ],
         "marker": {
          "color": "#EF553B"
         },
         "mode": "markers",
         "name": "next to electric socket ",
         "showlegend": true,
         "subplot": "mapbox",
         "type": "scattermapbox"
        },
        {
         "customdata": [
          [
           "['RamMandir', 1, 'JaiShreeRam', 2]"
          ]
         ],
         "hovertemplate": "<b>%{hovertext}</b><br><br>user_location=नासाज़-जिंदगी :)- <br>latitude=%{lat}<br>longitude=%{lon}<br>Hash_text=%{customdata[0]}<extra></extra>",
         "hovertext": [
          "iSalmaniac_"
         ],
         "lat": [
          null
         ],
         "legendgroup": "नासाज़-जिंदगी :)- ",
         "lon": [
          null
         ],
         "marker": {
          "color": "#00cc96"
         },
         "mode": "markers",
         "name": "नासाज़-जिंदगी :)- ",
         "showlegend": true,
         "subplot": "mapbox",
         "type": "scattermapbox"
        },
        {
         "customdata": [
          [
           "['burnol', 1, 'RamMandir', 2, '5_अगस्त_भगवा_दिवस', 3, 'RamMandir', 4, 'AyodhyaBhoomipoojan', 5, 'पधारो_राम_अयोध्या_धाम', 6, 'RamMandirAyodhya', 7, 'burnol', 8, 'RamMandir4Bharat', 9, 'जयश्रीराम', 10, 'burnolDay', 11, 'Aajtakno1', 12]"
          ]
         ],
         "hovertemplate": "<b>%{hovertext}</b><br><br>user_location=नई दिल्ली, भारत<br>latitude=%{lat}<br>longitude=%{lon}<br>Hash_text=%{customdata[0]}<extra></extra>",
         "hovertext": [
          "1sanjanay"
         ],
         "lat": [
          28.613895399999997
         ],
         "legendgroup": "नई दिल्ली, भारत",
         "lon": [
          77.2090057
         ],
         "marker": {
          "color": "#ab63fa"
         },
         "mode": "markers",
         "name": "नई दिल्ली, भारत",
         "showlegend": true,
         "subplot": "mapbox",
         "type": "scattermapbox"
        },
        {
         "customdata": [
          [
           "['JaiShreeRam', 1, 'RamMandir', 2, 'RamMandirAyodhya', 3, 'पधारो_राम_अयोध्या_धाम', 4, 'AyodhyaBhoomipoojan', 5, 'RamMandir4Bharat', 6]"
          ]
         ],
         "hovertemplate": "<b>%{hovertext}</b><br><br>user_location=DELHI<br>latitude=%{lat}<br>longitude=%{lon}<br>Hash_text=%{customdata[0]}<extra></extra>",
         "hovertext": [
          "Adva_Furnitures"
         ],
         "lat": [
          28.6517178
         ],
         "legendgroup": "DELHI",
         "lon": [
          77.22193879999999
         ],
         "marker": {
          "color": "#FFA15A"
         },
         "mode": "markers",
         "name": "DELHI",
         "showlegend": true,
         "subplot": "mapbox",
         "type": "scattermapbox"
        },
        {
         "customdata": [
          [
           "['RamMandir', 1]"
          ]
         ],
         "hovertemplate": "<b>%{hovertext}</b><br><br>user_location=Goa, India<br>latitude=%{lat}<br>longitude=%{lon}<br>Hash_text=%{customdata[0]}<extra></extra>",
         "hovertext": [
          "GuttuG"
         ],
         "lat": [
          15.3004543
         ],
         "legendgroup": "Goa, India",
         "lon": [
          74.08551340000001
         ],
         "marker": {
          "color": "#19d3f3"
         },
         "mode": "markers",
         "name": "Goa, India",
         "showlegend": true,
         "subplot": "mapbox",
         "type": "scattermapbox"
        },
        {
         "customdata": [
          [
           "['RamMandir', 1]"
          ]
         ],
         "hovertemplate": "<b>%{hovertext}</b><br><br>user_location=Kolkata, India<br>latitude=%{lat}<br>longitude=%{lon}<br>Hash_text=%{customdata[0]}<extra></extra>",
         "hovertext": [
          "SreyashiDey"
         ],
         "lat": [
          22.5726723
         ],
         "legendgroup": "Kolkata, India",
         "lon": [
          88.36388149999999
         ],
         "marker": {
          "color": "#FF6692"
         },
         "mode": "markers",
         "name": "Kolkata, India",
         "showlegend": true,
         "subplot": "mapbox",
         "type": "scattermapbox"
        },
        {
         "customdata": [
          [
           "['RamMandir', 1, 'JaiShreeRam', 2]"
          ]
         ],
         "hovertemplate": "<b>%{hovertext}</b><br><br>user_location=🇮🇳<br>latitude=%{lat}<br>longitude=%{lon}<br>Hash_text=%{customdata[0]}<extra></extra>",
         "hovertext": [
          "VardhanXP"
         ],
         "lat": [
          null
         ],
         "legendgroup": "🇮🇳",
         "lon": [
          null
         ],
         "marker": {
          "color": "#B6E880"
         },
         "mode": "markers",
         "name": "🇮🇳",
         "showlegend": true,
         "subplot": "mapbox",
         "type": "scattermapbox"
        },
        {
         "customdata": [
          [
           "['RamMandir', 1, 'Ayodhya', 2, 'Economy', 3]"
          ]
         ],
         "hovertemplate": "<b>%{hovertext}</b><br><br>user_location=Fourth Reich <br>latitude=%{lat}<br>longitude=%{lon}<br>Hash_text=%{customdata[0]}<extra></extra>",
         "hovertext": [
          "The_NisHIT"
         ],
         "lat": [
          50.68475
         ],
         "legendgroup": "Fourth Reich ",
         "lon": [
          14.645220000000002
         ],
         "marker": {
          "color": "#FF97FF"
         },
         "mode": "markers",
         "name": "Fourth Reich ",
         "showlegend": true,
         "subplot": "mapbox",
         "type": "scattermapbox"
        },
        {
         "customdata": [
          [
           "['HagiaSophia', 1, 'RamMandir', 2, 'HagiaSophia', 3, 'church', 4]"
          ]
         ],
         "hovertemplate": "<b>%{hovertext}</b><br><br>user_location=Jodhpur, India<br>latitude=%{lat}<br>longitude=%{lon}<br>Hash_text=%{customdata[0]}<extra></extra>",
         "hovertext": [
          "TheMaheshJyani"
         ],
         "lat": [
          26.2756828
         ],
         "legendgroup": "Jodhpur, India",
         "lon": [
          73.0296973
         ],
         "marker": {
          "color": "#FECB52"
         },
         "mode": "markers",
         "name": "Jodhpur, India",
         "showlegend": true,
         "subplot": "mapbox",
         "type": "scattermapbox"
        },
        {
         "customdata": [
          [
           "['RamMandir', 1, 'JaiShreeRam', 2, 'Ayodhya', 3]"
          ]
         ],
         "hovertemplate": "<b>%{hovertext}</b><br><br>user_location=Trivandrum, India<br>latitude=%{lat}<br>longitude=%{lon}<br>Hash_text=%{customdata[0]}<extra></extra>",
         "hovertext": [
          "Sk_nairR"
         ],
         "lat": [
          8.5241122
         ],
         "legendgroup": "Trivandrum, India",
         "lon": [
          76.9360573
         ],
         "marker": {
          "color": "#636efa"
         },
         "mode": "markers",
         "name": "Trivandrum, India",
         "showlegend": true,
         "subplot": "mapbox",
         "type": "scattermapbox"
        },
        {
         "customdata": [
          [
           "['JaiShreeRam', 1, 'RamMandir', 2, 'RamTemple', 3]"
          ]
         ],
         "hovertemplate": "<b>%{hovertext}</b><br><br>user_location=Tehri, Uttrakhand/ Delhi<br>latitude=%{lat}<br>longitude=%{lon}<br>Hash_text=%{customdata[0]}<extra></extra>",
         "hovertext": [
          "anishsemalty"
         ],
         "lat": [
          28.653809999999996
         ],
         "legendgroup": "Tehri, Uttrakhand/ Delhi",
         "lon": [
          77.22896999999999
         ],
         "marker": {
          "color": "#EF553B"
         },
         "mode": "markers",
         "name": "Tehri, Uttrakhand/ Delhi",
         "showlegend": true,
         "subplot": "mapbox",
         "type": "scattermapbox"
        },
        {
         "customdata": [
          [
           "['HagiaSophia', 1, 'RamMandir', 2]"
          ]
         ],
         "hovertemplate": "<b>%{hovertext}</b><br><br>user_location=Milky way galaxy<br>latitude=%{lat}<br>longitude=%{lon}<br>Hash_text=%{customdata[0]}<extra></extra>",
         "hovertext": [
          "akhilpillai0589"
         ],
         "lat": [
          -29.8524663
         ],
         "legendgroup": "Milky way galaxy",
         "lon": [
          30.801965600000003
         ],
         "marker": {
          "color": "#00cc96"
         },
         "mode": "markers",
         "name": "Milky way galaxy",
         "showlegend": true,
         "subplot": "mapbox",
         "type": "scattermapbox"
        },
        {
         "customdata": [
          [
           "['RamMandir', 1, 'RamJanmabhoomi', 2, 'RamMandir4Bharat', 3]"
          ],
          [
           "['5August2020', 1, 'JaiShreeRam', 2, 'RamMandir', 3, 'RamMandirBhumiPujan', 4, 'RamMandirNationalPride', 5, 'ModiHaiTohMumkinHai', 6, 'rss', 7, 'vhp', 8, 'india', 9]"
          ]
         ],
         "hovertemplate": "<b>%{hovertext}</b><br><br>user_location=Pune, India<br>latitude=%{lat}<br>longitude=%{lon}<br>Hash_text=%{customdata[0]}<extra></extra>",
         "hovertext": [
          "SjAmruta",
          "MalvadeNimish"
         ],
         "lat": [
          18.521428,
          18.521428
         ],
         "legendgroup": "Pune, India",
         "lon": [
          73.8544541,
          73.8544541
         ],
         "marker": {
          "color": "#ab63fa"
         },
         "mode": "markers",
         "name": "Pune, India",
         "showlegend": true,
         "subplot": "mapbox",
         "type": "scattermapbox"
        },
        {
         "customdata": [
          [
           "['ThankYouModiForRamMandir', 1, 'JaiShreeRam', 2, 'RamMandir', 3, 'RamMandirAyodhya', 4]"
          ]
         ],
         "hovertemplate": "<b>%{hovertext}</b><br><br>user_location=Nagpur, India<br>latitude=%{lat}<br>longitude=%{lon}<br>Hash_text=%{customdata[0]}<extra></extra>",
         "hovertext": [
          "ChaitanyaG931"
         ],
         "lat": [
          21.1498134
         ],
         "legendgroup": "Nagpur, India",
         "lon": [
          79.0820556
         ],
         "marker": {
          "color": "#FFA15A"
         },
         "mode": "markers",
         "name": "Nagpur, India",
         "showlegend": true,
         "subplot": "mapbox",
         "type": "scattermapbox"
        },
        {
         "customdata": [
          [
           "['RamMandir', 1]"
          ]
         ],
         "hovertemplate": "<b>%{hovertext}</b><br><br>user_location=New Delhi, Kashmir<br>latitude=%{lat}<br>longitude=%{lon}<br>Hash_text=%{customdata[0]}<extra></extra>",
         "hovertext": [
          "VickyRaina9"
         ],
         "lat": [
          28.5992532
         ],
         "legendgroup": "New Delhi, Kashmir",
         "lon": [
          77.19627170000001
         ],
         "marker": {
          "color": "#19d3f3"
         },
         "mode": "markers",
         "name": "New Delhi, Kashmir",
         "showlegend": true,
         "subplot": "mapbox",
         "type": "scattermapbox"
        },
        {
         "customdata": [
          [
           "['RamMandir', 1, 'RamMandirAyodhya', 2, 'ram', 3]"
          ]
         ],
         "hovertemplate": "<b>%{hovertext}</b><br><br>user_location=Jaipur<br>latitude=%{lat}<br>longitude=%{lon}<br>Hash_text=%{customdata[0]}<extra></extra>",
         "hovertext": [
          "pardeepayur"
         ],
         "lat": [
          26.916194
         ],
         "legendgroup": "Jaipur",
         "lon": [
          75.820349
         ],
         "marker": {
          "color": "#FF6692"
         },
         "mode": "markers",
         "name": "Jaipur",
         "showlegend": true,
         "subplot": "mapbox",
         "type": "scattermapbox"
        },
        {
         "customdata": [
          [
           "['ShivSena', 1, 'BalasahebThackeray', 2, 'RamMandir', 3, 'RamMandirAyodhya', 4]"
          ],
          [
           "['BhumiPujan', 1, 'Ram', 2, 'RamMandir', 3]"
          ],
          [
           "['RamMandir', 1, 'Ayodhya', 2, 'ShriRamDhun', 3, 'RamMandirBhumiPujan', 4]"
          ],
          [
           "['RamMandir', 1]"
          ]
         ],
         "hovertemplate": "<b>%{hovertext}</b><br><br>user_location=Mumbai<br>latitude=%{lat}<br>longitude=%{lon}<br>Hash_text=%{customdata[0]}<extra></extra>",
         "hovertext": [
          "moneycontrolcom",
          "pravingandhino1",
          "redribbonmusik",
          "sanjaybgoel"
         ],
         "lat": [
          18.9387711,
          18.9387711,
          18.9387711,
          18.9387711
         ],
         "legendgroup": "Mumbai",
         "lon": [
          72.8353355,
          72.8353355,
          72.8353355,
          72.8353355
         ],
         "marker": {
          "color": "#B6E880"
         },
         "mode": "markers",
         "name": "Mumbai",
         "showlegend": true,
         "subplot": "mapbox",
         "type": "scattermapbox"
        },
        {
         "customdata": [
          [
           "['RamMandir', 1]"
          ]
         ],
         "hovertemplate": "<b>%{hovertext}</b><br><br>user_location=Hindu Republic of India <br>latitude=%{lat}<br>longitude=%{lon}<br>Hash_text=%{customdata[0]}<extra></extra>",
         "hovertext": [
          "ShivammSays"
         ],
         "lat": [
          17.4041744
         ],
         "legendgroup": "Hindu Republic of India ",
         "lon": [
          78.48697320000001
         ],
         "marker": {
          "color": "#FF97FF"
         },
         "mode": "markers",
         "name": "Hindu Republic of India ",
         "showlegend": true,
         "subplot": "mapbox",
         "type": "scattermapbox"
        },
        {
         "customdata": [
          [
           "['FakeSeculars', 1, 'SC', 2, 'RamMandir', 3, 'MandirBhumiPujan', 4, 'JaiShriRam', 5]"
          ]
         ],
         "hovertemplate": "<b>%{hovertext}</b><br><br>user_location=Coimbatore<br>latitude=%{lat}<br>longitude=%{lon}<br>Hash_text=%{customdata[0]}<extra></extra>",
         "hovertext": [
          "VarierSangitha"
         ],
         "lat": [
          11.0018115
         ],
         "legendgroup": "Coimbatore",
         "lon": [
          76.96284250000001
         ],
         "marker": {
          "color": "#FECB52"
         },
         "mode": "markers",
         "name": "Coimbatore",
         "showlegend": true,
         "subplot": "mapbox",
         "type": "scattermapbox"
        },
        {
         "customdata": [
          [
           "['RamMandir', 1, 'RamBhumiPujan', 2]"
          ]
         ],
         "hovertemplate": "<b>%{hovertext}</b><br><br>user_location=india<br>latitude=%{lat}<br>longitude=%{lon}<br>Hash_text=%{customdata[0]}<extra></extra>",
         "hovertext": [
          "jainvarun_"
         ],
         "lat": [
          22.3511148
         ],
         "legendgroup": "india",
         "lon": [
          78.6677428
         ],
         "marker": {
          "color": "#636efa"
         },
         "mode": "markers",
         "name": "india",
         "showlegend": true,
         "subplot": "mapbox",
         "type": "scattermapbox"
        },
        {
         "customdata": [
          [
           "['RamMandir', 1, 'SCForSushant', 2]"
          ]
         ],
         "hovertemplate": "<b>%{hovertext}</b><br><br>user_location=Republic of Korea<br>latitude=%{lat}<br>longitude=%{lon}<br>Hash_text=%{customdata[0]}<extra></extra>",
         "hovertext": [
          "drsmita_smiley"
         ],
         "lat": [
          36.638391999999996
         ],
         "legendgroup": "Republic of Korea",
         "lon": [
          127.69611880000001
         ],
         "marker": {
          "color": "#EF553B"
         },
         "mode": "markers",
         "name": "Republic of Korea",
         "showlegend": true,
         "subplot": "mapbox",
         "type": "scattermapbox"
        },
        {
         "customdata": [
          [
           "['follo', 1, 'beinsporstiptal', 2, 'JaiShreeRam', 3, 'RamMandir', 4, 'あなたをどうぶつに例えると', 5, 'FolloMe', 6, 'BTC', 7]"
          ]
         ],
         "hovertemplate": "<b>%{hovertext}</b><br><br>user_location=Malta<br>latitude=%{lat}<br>longitude=%{lon}<br>Hash_text=%{customdata[0]}<extra></extra>",
         "hovertext": [
          "mwila_w"
         ],
         "lat": [
          35.888599299999996
         ],
         "legendgroup": "Malta",
         "lon": [
          14.4476911
         ],
         "marker": {
          "color": "#00cc96"
         },
         "mode": "markers",
         "name": "Malta",
         "showlegend": true,
         "subplot": "mapbox",
         "type": "scattermapbox"
        },
        {
         "customdata": [
          [
           "['Congress', 1, 'RamMandir', 2, 'Ayodhya', 3, 'AyodhyaBhoomipoojan', 4, 'CAA', 5, 'scraping', 6]"
          ]
         ],
         "hovertemplate": "<b>%{hovertext}</b><br><br>user_location=Edinburgh, Scotland<br>latitude=%{lat}<br>longitude=%{lon}<br>Hash_text=%{customdata[0]}<extra></extra>",
         "hovertext": [
          "vigneshrajj"
         ],
         "lat": [
          55.9533456
         ],
         "legendgroup": "Edinburgh, Scotland",
         "lon": [
          -3.1883749
         ],
         "marker": {
          "color": "#ab63fa"
         },
         "mode": "markers",
         "name": "Edinburgh, Scotland",
         "showlegend": true,
         "subplot": "mapbox",
         "type": "scattermapbox"
        },
        {
         "customdata": [
          [
           "['BhoomiPujan', 1, 'RamMandir', 2, 'Ayodhya', 3, 'RamJanmbhoomi', 4, 'RamRajya', 5, 'MandirBhumiPujan', 6, 'ram', 7]"
          ]
         ],
         "hovertemplate": "<b>%{hovertext}</b><br><br>user_location=Parmarth Niketan, Rishikesh<br>latitude=%{lat}<br>longitude=%{lon}<br>Hash_text=%{customdata[0]}<extra></extra>",
         "hovertext": [
          "SadhviBhagawati"
         ],
         "lat": [
          30.107779999999998
         ],
         "legendgroup": "Parmarth Niketan, Rishikesh",
         "lon": [
          78.29255
         ],
         "marker": {
          "color": "#FFA15A"
         },
         "mode": "markers",
         "name": "Parmarth Niketan, Rishikesh",
         "showlegend": true,
         "subplot": "mapbox",
         "type": "scattermapbox"
        },
        {
         "customdata": [
          [
           "['BhumiPujan', 1, 'RamMandir', 2]"
          ],
          [
           "['BhumiPujan', 1, 'RamMandir', 2]"
          ]
         ],
         "hovertemplate": "<b>%{hovertext}</b><br><br>user_location=Jaipur / New Delhi<br>latitude=%{lat}<br>longitude=%{lon}<br>Hash_text=%{customdata[0]}<extra></extra>",
         "hovertext": [
          "Sivam_B",
          "Sivam_B"
         ],
         "lat": [
          28.6096333,
          28.6096333
         ],
         "legendgroup": "Jaipur / New Delhi",
         "lon": [
          77.2341831,
          77.2341831
         ],
         "marker": {
          "color": "#19d3f3"
         },
         "mode": "markers",
         "name": "Jaipur / New Delhi",
         "showlegend": true,
         "subplot": "mapbox",
         "type": "scattermapbox"
        },
        {
         "customdata": [
          [
           "['RamMandir', 1, 'aashaherbals', 2, 'thoughts', 3, 'JaiShreeRam', 4]"
          ]
         ],
         "hovertemplate": "<b>%{hovertext}</b><br><br>user_location=member of this planet.🙏<br>latitude=%{lat}<br>longitude=%{lon}<br>Hash_text=%{customdata[0]}<extra></extra>",
         "hovertext": [
          "mindkraft12345"
         ],
         "lat": [
          null
         ],
         "legendgroup": "member of this planet.🙏",
         "lon": [
          null
         ],
         "marker": {
          "color": "#FF6692"
         },
         "mode": "markers",
         "name": "member of this planet.🙏",
         "showlegend": true,
         "subplot": "mapbox",
         "type": "scattermapbox"
        },
        {
         "customdata": [
          [
           "['5thAugustBlackDay', 1, '5thAugust', 2, 'AyodhyaBhoomipoojan', 3, 'RamMandir', 4, 'Kashmir', 5]"
          ]
         ],
         "hovertemplate": "<b>%{hovertext}</b><br><br>user_location=Pakistan<br>latitude=%{lat}<br>longitude=%{lon}<br>Hash_text=%{customdata[0]}<extra></extra>",
         "hovertext": [
          "ItsNumra"
         ],
         "lat": [
          30.3308401
         ],
         "legendgroup": "Pakistan",
         "lon": [
          71.247499
         ],
         "marker": {
          "color": "#B6E880"
         },
         "mode": "markers",
         "name": "Pakistan",
         "showlegend": true,
         "subplot": "mapbox",
         "type": "scattermapbox"
        },
        {
         "customdata": [
          [
           "['NarendraModi', 1, 'RamMandir', 2, 'Ayodhya', 3]"
          ]
         ],
         "hovertemplate": "<b>%{hovertext}</b><br><br>user_location=Delhi NCR/Mumbai/UP/Gujarat<br>latitude=%{lat}<br>longitude=%{lon}<br>Hash_text=%{customdata[0]}<extra></extra>",
         "hovertext": [
          "kash2312"
         ],
         "lat": [
          23
         ],
         "legendgroup": "Delhi NCR/Mumbai/UP/Gujarat",
         "lon": [
          71.75
         ],
         "marker": {
          "color": "#FF97FF"
         },
         "mode": "markers",
         "name": "Delhi NCR/Mumbai/UP/Gujarat",
         "showlegend": true,
         "subplot": "mapbox",
         "type": "scattermapbox"
        },
        {
         "customdata": [
          [
           "['RamMandir', 1]"
          ]
         ],
         "hovertemplate": "<b>%{hovertext}</b><br><br>user_location=Jodhpur/Jaipur, India<br>latitude=%{lat}<br>longitude=%{lon}<br>Hash_text=%{customdata[0]}<extra></extra>",
         "hovertext": [
          "AvinChhangani"
         ],
         "lat": [
          26.9123293
         ],
         "legendgroup": "Jodhpur/Jaipur, India",
         "lon": [
          75.73813309999998
         ],
         "marker": {
          "color": "#FECB52"
         },
         "mode": "markers",
         "name": "Jodhpur/Jaipur, India",
         "showlegend": true,
         "subplot": "mapbox",
         "type": "scattermapbox"
        },
        {
         "customdata": [
          [
           "['RamMandir', 1]"
          ],
          [
           "['Ayodhya', 1, 'RamMandir', 2, 'BhoomiPujan', 3, 'RahulGandhi', 4]"
          ]
         ],
         "hovertemplate": "<b>%{hovertext}</b><br><br>user_location=New Delhi, Delhi<br>latitude=%{lat}<br>longitude=%{lon}<br>Hash_text=%{customdata[0]}<extra></extra>",
         "hovertext": [
          "rahulmehtabjp",
          "WeForNews"
         ],
         "lat": [
          28.613895399999997,
          28.613895399999997
         ],
         "legendgroup": "New Delhi, Delhi",
         "lon": [
          77.2090057,
          77.2090057
         ],
         "marker": {
          "color": "#636efa"
         },
         "mode": "markers",
         "name": "New Delhi, Delhi",
         "showlegend": true,
         "subplot": "mapbox",
         "type": "scattermapbox"
        },
        {
         "customdata": [
          [
           "['RamMandirAyodhya', 1, 'RamMandir', 2]"
          ]
         ],
         "hovertemplate": "<b>%{hovertext}</b><br><br>user_location=Jin Hit Entertainment <br>latitude=%{lat}<br>longitude=%{lon}<br>Hash_text=%{customdata[0]}<extra></extra>",
         "hovertext": [
          "yayyoucanread"
         ],
         "lat": [
          37.513178
         ],
         "legendgroup": "Jin Hit Entertainment ",
         "lon": [
          127.0322375
         ],
         "marker": {
          "color": "#EF553B"
         },
         "mode": "markers",
         "name": "Jin Hit Entertainment ",
         "showlegend": true,
         "subplot": "mapbox",
         "type": "scattermapbox"
        },
        {
         "customdata": [
          [
           "['RamMandir', 1]"
          ]
         ],
         "hovertemplate": "<b>%{hovertext}</b><br><br>user_location=श्री राम भूमि <br>latitude=%{lat}<br>longitude=%{lon}<br>Hash_text=%{customdata[0]}<extra></extra>",
         "hovertext": [
          "JokersSigh"
         ],
         "lat": [
          null
         ],
         "legendgroup": "श्री राम भूमि ",
         "lon": [
          null
         ],
         "marker": {
          "color": "#00cc96"
         },
         "mode": "markers",
         "name": "श्री राम भूमि ",
         "showlegend": true,
         "subplot": "mapbox",
         "type": "scattermapbox"
        },
        {
         "customdata": [
          [
           "['पधारो_राम_अयोध्या_धाम', 1, 'RamMandir', 2, 'RamMandirAyodhya', 3]"
          ]
         ],
         "hovertemplate": "<b>%{hovertext}</b><br><br>user_location=Bhubaneshwar, India<br>latitude=%{lat}<br>longitude=%{lon}<br>Hash_text=%{customdata[0]}<extra></extra>",
         "hovertext": [
          "gentleman_jitu"
         ],
         "lat": [
          20.260296399999998
         ],
         "legendgroup": "Bhubaneshwar, India",
         "lon": [
          85.83945209999999
         ],
         "marker": {
          "color": "#ab63fa"
         },
         "mode": "markers",
         "name": "Bhubaneshwar, India",
         "showlegend": true,
         "subplot": "mapbox",
         "type": "scattermapbox"
        },
        {
         "customdata": [
          [
           "['RamMandir', 1, 'Modi', 2]"
          ]
         ],
         "hovertemplate": "<b>%{hovertext}</b><br><br>user_location=Delhi ki garmi me<br>latitude=%{lat}<br>longitude=%{lon}<br>Hash_text=%{customdata[0]}<extra></extra>",
         "hovertext": [
          "chaskebaazi"
         ],
         "lat": [
          45.50032
         ],
         "legendgroup": "Delhi ki garmi me",
         "lon": [
          -69.24977
         ],
         "marker": {
          "color": "#FFA15A"
         },
         "mode": "markers",
         "name": "Delhi ki garmi me",
         "showlegend": true,
         "subplot": "mapbox",
         "type": "scattermapbox"
        },
        {
         "customdata": [
          [
           "['RamMandir', 1]"
          ]
         ],
         "hovertemplate": "<b>%{hovertext}</b><br><br>user_location=Chengalpattu, India<br>latitude=%{lat}<br>longitude=%{lon}<br>Hash_text=%{customdata[0]}<extra></extra>",
         "hovertext": [
          "srikanthsriniv8"
         ],
         "lat": [
          12.766574199999999
         ],
         "legendgroup": "Chengalpattu, India",
         "lon": [
          79.9993191
         ],
         "marker": {
          "color": "#19d3f3"
         },
         "mode": "markers",
         "name": "Chengalpattu, India",
         "showlegend": true,
         "subplot": "mapbox",
         "type": "scattermapbox"
        },
        {
         "customdata": [
          [
           "['RamMandir', 1, 'JaiShreeRam', 2]"
          ]
         ],
         "hovertemplate": "<b>%{hovertext}</b><br><br>user_location=😊<br>latitude=%{lat}<br>longitude=%{lon}<br>Hash_text=%{customdata[0]}<extra></extra>",
         "hovertext": [
          "LazyElegance45"
         ],
         "lat": [
          null
         ],
         "legendgroup": "😊",
         "lon": [
          null
         ],
         "marker": {
          "color": "#FF6692"
         },
         "mode": "markers",
         "name": "😊",
         "showlegend": true,
         "subplot": "mapbox",
         "type": "scattermapbox"
        },
        {
         "customdata": [
          [
           "['RamMandir', 1]"
          ]
         ],
         "hovertemplate": "<b>%{hovertext}</b><br><br>user_location=Agra, India<br>latitude=%{lat}<br>longitude=%{lon}<br>Hash_text=%{customdata[0]}<extra></extra>",
         "hovertext": [
          "initin_s"
         ],
         "lat": [
          27.1752554
         ],
         "legendgroup": "Agra, India",
         "lon": [
          78.0098161
         ],
         "marker": {
          "color": "#B6E880"
         },
         "mode": "markers",
         "name": "Agra, India",
         "showlegend": true,
         "subplot": "mapbox",
         "type": "scattermapbox"
        },
        {
         "customdata": [
          [
           "['RamMandir', 1]"
          ]
         ],
         "hovertemplate": "<b>%{hovertext}</b><br><br>user_location=Dwarka, India<br>latitude=%{lat}<br>longitude=%{lon}<br>Hash_text=%{customdata[0]}<extra></extra>",
         "hovertext": [
          "vasudevkrisshna"
         ],
         "lat": [
          22.2471009
         ],
         "legendgroup": "Dwarka, India",
         "lon": [
          68.9742446
         ],
         "marker": {
          "color": "#FF97FF"
         },
         "mode": "markers",
         "name": "Dwarka, India",
         "showlegend": true,
         "subplot": "mapbox",
         "type": "scattermapbox"
        },
        {
         "customdata": [
          [
           "['RamMandir', 1, 'Ayodhya', 2, 'RamTemple', 3, 'BhoomiPujan', 4]"
          ]
         ],
         "hovertemplate": "<b>%{hovertext}</b><br><br>user_location=Jl. Dr. Muwardi no.3, Denpasar, Bali<br>latitude=%{lat}<br>longitude=%{lon}<br>Hash_text=%{customdata[0]}<extra></extra>",
         "hovertext": [
          "iccr_bali"
         ],
         "lat": [
          -8.65
         ],
         "legendgroup": "Jl. Dr. Muwardi no.3, Denpasar, Bali",
         "lon": [
          115.21667
         ],
         "marker": {
          "color": "#FECB52"
         },
         "mode": "markers",
         "name": "Jl. Dr. Muwardi no.3, Denpasar, Bali",
         "showlegend": true,
         "subplot": "mapbox",
         "type": "scattermapbox"
        },
        {
         "customdata": [
          [
           "['Beirut', 1, 'COVID19', 2, 'kiddricca', 3, 'wednesdaymorning', 4, 'KeaDrive', 5, 'RamMandir', 6, 'comecloser', 7, 'artcaffe', 8, 'Laycon', 9, 'Nengi', 10, 'Lebanon', 11]"
          ]
         ],
         "hovertemplate": "<b>%{hovertext}</b><br><br>user_location=Manila City, National Capital <br>latitude=%{lat}<br>longitude=%{lon}<br>Hash_text=%{customdata[0]}<extra></extra>",
         "hovertext": [
          "sampsondemo"
         ],
         "lat": [
          14.590733199999999
         ],
         "legendgroup": "Manila City, National Capital ",
         "lon": [
          120.98096740000001
         ],
         "marker": {
          "color": "#636efa"
         },
         "mode": "markers",
         "name": "Manila City, National Capital ",
         "showlegend": true,
         "subplot": "mapbox",
         "type": "scattermapbox"
        },
        {
         "customdata": [
          [
           "['RamMandir', 1, 'RamMandirAyodhya', 2, 'RamBhumiPujan', 3, 'राममंदिर', 4, 'श्रीरामलला_विराजमान', 5, 'JaiShreeRam', 6, 'पधारो_राम_अयोध्या_धाम', 7]"
          ]
         ],
         "hovertemplate": "<b>%{hovertext}</b><br><br>user_location=Hyderabad, India<br>latitude=%{lat}<br>longitude=%{lon}<br>Hash_text=%{customdata[0]}<extra></extra>",
         "hovertext": [
          "ksurya1007"
         ],
         "lat": [
          17.3616079
         ],
         "legendgroup": "Hyderabad, India",
         "lon": [
          78.4746286
         ],
         "marker": {
          "color": "#EF553B"
         },
         "mode": "markers",
         "name": "Hyderabad, India",
         "showlegend": true,
         "subplot": "mapbox",
         "type": "scattermapbox"
        },
        {
         "customdata": [
          [
           "['RamMandir', 1]"
          ]
         ],
         "hovertemplate": "<b>%{hovertext}</b><br><br>user_location=Mars<br>latitude=%{lat}<br>longitude=%{lon}<br>Hash_text=%{customdata[0]}<extra></extra>",
         "hovertext": [
          "jubildas"
         ],
         "lat": [
          45.022172
         ],
         "legendgroup": "Mars",
         "lon": [
          4.3221548
         ],
         "marker": {
          "color": "#00cc96"
         },
         "mode": "markers",
         "name": "Mars",
         "showlegend": true,
         "subplot": "mapbox",
         "type": "scattermapbox"
        },
        {
         "customdata": [
          [
           "['RamMandir', 1, 'JaiSiyaRam', 2]"
          ]
         ],
         "hovertemplate": "<b>%{hovertext}</b><br><br>user_location=Delhi I Azamgarh<br>latitude=%{lat}<br>longitude=%{lon}<br>Hash_text=%{customdata[0]}<extra></extra>",
         "hovertext": [
          "PK078"
         ],
         "lat": [
          26.06758
         ],
         "legendgroup": "Delhi I Azamgarh",
         "lon": [
          83.18364
         ],
         "marker": {
          "color": "#ab63fa"
         },
         "mode": "markers",
         "name": "Delhi I Azamgarh",
         "showlegend": true,
         "subplot": "mapbox",
         "type": "scattermapbox"
        },
        {
         "customdata": [
          [
           "['Hindus', 1, 'JaiShreeRam', 2, 'RamMandir', 3, 'RamMandirAyodhya', 4]"
          ],
          [
           "['RamMandir', 1, 'RamMandirAyodhya', 2, 'RamTempleIn', 3, 'Hindu', 4, 'Ayodhya', 5, 'BhoomiPujan', 6, 'BhoomiPoojan', 7]"
          ]
         ],
         "hovertemplate": "<b>%{hovertext}</b><br><br>user_location=Ahmedabad<br>latitude=%{lat}<br>longitude=%{lon}<br>Hash_text=%{customdata[0]}<extra></extra>",
         "hovertext": [
          "Jenilpatel511",
          "StickerryApp"
         ],
         "lat": [
          23.0216238,
          23.0216238
         ],
         "legendgroup": "Ahmedabad",
         "lon": [
          72.5797068,
          72.5797068
         ],
         "marker": {
          "color": "#FFA15A"
         },
         "mode": "markers",
         "name": "Ahmedabad",
         "showlegend": true,
         "subplot": "mapbox",
         "type": "scattermapbox"
        },
        {
         "customdata": [
          [
           "['RamMandir', 1]"
          ],
          [
           "['RamMandirAyodhya', 1, 'RamMandir', 2, 'BabriZindaHai', 3]"
          ]
         ],
         "hovertemplate": "<b>%{hovertext}</b><br><br>user_location=Karnataka, India<br>latitude=%{lat}<br>longitude=%{lon}<br>Hash_text=%{customdata[0]}<extra></extra>",
         "hovertext": [
          "glenfdsouza",
          "tanviralamf"
         ],
         "lat": [
          14.520389600000001,
          14.520389600000001
         ],
         "legendgroup": "Karnataka, India",
         "lon": [
          75.7223521,
          75.7223521
         ],
         "marker": {
          "color": "#19d3f3"
         },
         "mode": "markers",
         "name": "Karnataka, India",
         "showlegend": true,
         "subplot": "mapbox",
         "type": "scattermapbox"
        },
        {
         "customdata": [
          [
           "['mohanbhagwat', 1, 'RamBhumiPujan', 2, 'पधारो_राम_अयोध्या_धाम', 3, 'JaiShreeRam', 4, 'JaiShriram', 5, 'RamMandir', 6, 'पुलकित_दिव्य_अयोध्या_धाम', 7, 'RamMandirAyodhya', 8, 'हिन्दुओं_का_मान_राम_मंदिर_निर्माण', 9]"
          ]
         ],
         "hovertemplate": "<b>%{hovertext}</b><br><br>user_location=Purba Muzaffarpur, India<br>latitude=%{lat}<br>longitude=%{lon}<br>Hash_text=%{customdata[0]}<extra></extra>",
         "hovertext": [
          "BiharFighters"
         ],
         "lat": [
          26.12259
         ],
         "legendgroup": "Purba Muzaffarpur, India",
         "lon": [
          85.39055
         ],
         "marker": {
          "color": "#FF6692"
         },
         "mode": "markers",
         "name": "Purba Muzaffarpur, India",
         "showlegend": true,
         "subplot": "mapbox",
         "type": "scattermapbox"
        },
        {
         "customdata": [
          [
           "['पधारो_राम_अयोध्या_धाम', 1, 'JaiShriRam', 2, 'RamMandir', 3, 'AyodhyaBhoomipoojan', 4, 'Hindus', 5, 'JaiSiyaRam', 6, 'जयश्रीराम', 7, '5thAugustGoldenDay', 8, 'BhumiPujan', 9, 'RamJanmabhoomi', 10, 'राम_मंदिर_शिलान्यास', 11]"
          ]
         ],
         "hovertemplate": "<b>%{hovertext}</b><br><br>user_location=Ahmadabad City, India<br>latitude=%{lat}<br>longitude=%{lon}<br>Hash_text=%{customdata[0]}<extra></extra>",
         "hovertext": [
          "Abhishe90824574"
         ],
         "lat": [
          23.0216238
         ],
         "legendgroup": "Ahmadabad City, India",
         "lon": [
          72.5797068
         ],
         "marker": {
          "color": "#B6E880"
         },
         "mode": "markers",
         "name": "Ahmadabad City, India",
         "showlegend": true,
         "subplot": "mapbox",
         "type": "scattermapbox"
        },
        {
         "customdata": [
          [
           "['Babri_Masjid', 1, 'RamMandir', 2]"
          ]
         ],
         "hovertemplate": "<b>%{hovertext}</b><br><br>user_location=indian occupied Kashmir<br>latitude=%{lat}<br>longitude=%{lon}<br>Hash_text=%{customdata[0]}<extra></extra>",
         "hovertext": [
          "Xaid__Shah"
         ],
         "lat": [
          33.91667
         ],
         "legendgroup": "indian occupied Kashmir",
         "lon": [
          76.66667
         ],
         "marker": {
          "color": "#FF97FF"
         },
         "mode": "markers",
         "name": "indian occupied Kashmir",
         "showlegend": true,
         "subplot": "mapbox",
         "type": "scattermapbox"
        },
        {
         "customdata": [
          [
           "['RamMandir', 1, 'RamTempleBhoomiPujan', 2, 'RamMandirAyodhya', 3, 'RamTemple', 4]"
          ]
         ],
         "hovertemplate": "<b>%{hovertext}</b><br><br>user_location=Vibrant City Of India<br>latitude=%{lat}<br>longitude=%{lon}<br>Hash_text=%{customdata[0]}<extra></extra>",
         "hovertext": [
          "TheGopalan"
         ],
         "lat": [
          22
         ],
         "legendgroup": "Vibrant City Of India",
         "lon": [
          79
         ],
         "marker": {
          "color": "#FECB52"
         },
         "mode": "markers",
         "name": "Vibrant City Of India",
         "showlegend": true,
         "subplot": "mapbox",
         "type": "scattermapbox"
        },
        {
         "customdata": [
          [
           "['RamMandir', 1, '5AugustRamMandir', 2, 'NarendraModi', 3, 'JaiShriRam', 4, 'AyodhyaBhoomipoojan', 5]"
          ]
         ],
         "hovertemplate": "<b>%{hovertext}</b><br><br>user_location=Gujarat, India<br>latitude=%{lat}<br>longitude=%{lon}<br>Hash_text=%{customdata[0]}<extra></extra>",
         "hovertext": [
          "SumitDesai_"
         ],
         "lat": [
          22.3850008
         ],
         "legendgroup": "Gujarat, India",
         "lon": [
          71.74526329999999
         ],
         "marker": {
          "color": "#636efa"
         },
         "mode": "markers",
         "name": "Gujarat, India",
         "showlegend": true,
         "subplot": "mapbox",
         "type": "scattermapbox"
        },
        {
         "customdata": [
          [
           "['RamMandir', 1, 'Hinduism', 2]"
          ]
         ],
         "hovertemplate": "<b>%{hovertext}</b><br><br>user_location=Shimoga, Karnataka<br>latitude=%{lat}<br>longitude=%{lon}<br>Hash_text=%{customdata[0]}<extra></extra>",
         "hovertext": [
          "vinayak_hk"
         ],
         "lat": [
          13.9311723
         ],
         "legendgroup": "Shimoga, Karnataka",
         "lon": [
          75.569737
         ],
         "marker": {
          "color": "#EF553B"
         },
         "mode": "markers",
         "name": "Shimoga, Karnataka",
         "showlegend": true,
         "subplot": "mapbox",
         "type": "scattermapbox"
        },
        {
         "customdata": [
          [
           "['JaiShreeRam', 1, 'RamMandir', 2, 'राममंदिर', 3, 'Ayodhya', 4]"
          ],
          [
           "['RamMandir', 1, 'JaiShreeRam', 2, 'AyodhyaRamMandir', 3]"
          ]
         ],
         "hovertemplate": "<b>%{hovertext}</b><br><br>user_location=Jaipur, India<br>latitude=%{lat}<br>longitude=%{lon}<br>Hash_text=%{customdata[0]}<extra></extra>",
         "hovertext": [
          "Rocky00505375",
          "architectbaisa"
         ],
         "lat": [
          26.916194,
          26.916194
         ],
         "legendgroup": "Jaipur, India",
         "lon": [
          75.820349,
          75.820349
         ],
         "marker": {
          "color": "#00cc96"
         },
         "mode": "markers",
         "name": "Jaipur, India",
         "showlegend": true,
         "subplot": "mapbox",
         "type": "scattermapbox"
        },
        {
         "customdata": [
          [
           "['BabriMasjid', 1, 'RamMandir', 2]"
          ]
         ],
         "hovertemplate": "<b>%{hovertext}</b><br><br>user_location=Punjab, India<br>latitude=%{lat}<br>longitude=%{lon}<br>Hash_text=%{customdata[0]}<extra></extra>",
         "hovertext": [
          "TosharChaudhary"
         ],
         "lat": [
          30.929321100000003
         ],
         "legendgroup": "Punjab, India",
         "lon": [
          75.5004841
         ],
         "marker": {
          "color": "#ab63fa"
         },
         "mode": "markers",
         "name": "Punjab, India",
         "showlegend": true,
         "subplot": "mapbox",
         "type": "scattermapbox"
        },
        {
         "customdata": [
          [
           "['Ramayan', 1, 'RamMandir', 2]"
          ]
         ],
         "hovertemplate": "<b>%{hovertext}</b><br><br>user_location=at the feet of  vaishnavas!!!<br>latitude=%{lat}<br>longitude=%{lon}<br>Hash_text=%{customdata[0]}<extra></extra>",
         "hovertext": [
          "Gokrishigita"
         ],
         "lat": [
          null
         ],
         "legendgroup": "at the feet of  vaishnavas!!!",
         "lon": [
          null
         ],
         "marker": {
          "color": "#FFA15A"
         },
         "mode": "markers",
         "name": "at the feet of  vaishnavas!!!",
         "showlegend": true,
         "subplot": "mapbox",
         "type": "scattermapbox"
        },
        {
         "customdata": [
          [
           "['RamMandir', 1]"
          ]
         ],
         "hovertemplate": "<b>%{hovertext}</b><br><br>user_location=Madhya Pradesh, India<br>latitude=%{lat}<br>longitude=%{lon}<br>Hash_text=%{customdata[0]}<extra></extra>",
         "hovertext": [
          "SoneKaaZakheera"
         ],
         "lat": [
          23.969928200000002
         ],
         "legendgroup": "Madhya Pradesh, India",
         "lon": [
          79.3948695
         ],
         "marker": {
          "color": "#19d3f3"
         },
         "mode": "markers",
         "name": "Madhya Pradesh, India",
         "showlegend": true,
         "subplot": "mapbox",
         "type": "scattermapbox"
        },
        {
         "customdata": [
          [
           "['Ayodhya', 1, 'RamMandir', 2, 'burnol', 3]"
          ]
         ],
         "hovertemplate": "<b>%{hovertext}</b><br><br>user_location=Gurgaon, India<br>latitude=%{lat}<br>longitude=%{lon}<br>Hash_text=%{customdata[0]}<extra></extra>",
         "hovertext": [
          "angadadlakha"
         ],
         "lat": [
          28.4282624
         ],
         "legendgroup": "Gurgaon, India",
         "lon": [
          77.0027001
         ],
         "marker": {
          "color": "#FF6692"
         },
         "mode": "markers",
         "name": "Gurgaon, India",
         "showlegend": true,
         "subplot": "mapbox",
         "type": "scattermapbox"
        },
        {
         "customdata": [
          [
           "['RamMandir', 1, 'Ayodhya', 2]"
          ]
         ],
         "hovertemplate": "<b>%{hovertext}</b><br><br>user_location=Bombay, India<br>latitude=%{lat}<br>longitude=%{lon}<br>Hash_text=%{customdata[0]}<extra></extra>",
         "hovertext": [
          "SudheenKulkarni"
         ],
         "lat": [
          18.9387711
         ],
         "legendgroup": "Bombay, India",
         "lon": [
          72.8353355
         ],
         "marker": {
          "color": "#B6E880"
         },
         "mode": "markers",
         "name": "Bombay, India",
         "showlegend": true,
         "subplot": "mapbox",
         "type": "scattermapbox"
        },
        {
         "customdata": [
          [
           "['Ayodhya', 1, 'media', 2, 'RamMandir', 3, 'AyodhyaBhoomipoojan', 4]"
          ]
         ],
         "hovertemplate": "<b>%{hovertext}</b><br><br>user_location=land of the absurd<br>latitude=%{lat}<br>longitude=%{lon}<br>Hash_text=%{customdata[0]}<extra></extra>",
         "hovertext": [
          "smrutibombay"
         ],
         "lat": [
          null
         ],
         "legendgroup": "land of the absurd",
         "lon": [
          null
         ],
         "marker": {
          "color": "#FF97FF"
         },
         "mode": "markers",
         "name": "land of the absurd",
         "showlegend": true,
         "subplot": "mapbox",
         "type": "scattermapbox"
        },
        {
         "customdata": [
          [
           "['अयोध्या_भूमि_पूजन', 1, 'RamMandir', 2]"
          ]
         ],
         "hovertemplate": "<b>%{hovertext}</b><br><br>user_location=Tiny Blue Dot<br>latitude=%{lat}<br>longitude=%{lon}<br>Hash_text=%{customdata[0]}<extra></extra>",
         "hovertext": [
          "krossr9"
         ],
         "lat": [
          null
         ],
         "legendgroup": "Tiny Blue Dot",
         "lon": [
          null
         ],
         "marker": {
          "color": "#FECB52"
         },
         "mode": "markers",
         "name": "Tiny Blue Dot",
         "showlegend": true,
         "subplot": "mapbox",
         "type": "scattermapbox"
        },
        {
         "customdata": [
          [
           "['JaiShriRam', 1, 'RamMandir', 2, 'AyodhyaBhoomipoojan', 3, 'Ayodhya', 4, 'AyodhyaRamMandir', 5, 'BhumiPujan', 6, 'BhoomiPujan', 7]"
          ]
         ],
         "hovertemplate": "<b>%{hovertext}</b><br><br>user_location=United States<br>latitude=%{lat}<br>longitude=%{lon}<br>Hash_text=%{customdata[0]}<extra></extra>",
         "hovertext": [
          "thesjp18"
         ],
         "lat": [
          39.7837304
         ],
         "legendgroup": "United States",
         "lon": [
          -100.4458825
         ],
         "marker": {
          "color": "#636efa"
         },
         "mode": "markers",
         "name": "United States",
         "showlegend": true,
         "subplot": "mapbox",
         "type": "scattermapbox"
        },
        {
         "customdata": [
          [
           "['RamMandir', 1, 'Ramjanmbhoomi', 2, 'YogiAdityanath', 3]"
          ]
         ],
         "hovertemplate": "<b>%{hovertext}</b><br><br>user_location=Twitter<br>latitude=%{lat}<br>longitude=%{lon}<br>Hash_text=%{customdata[0]}<extra></extra>",
         "hovertext": [
          "TorontoDreams"
         ],
         "lat": [
          37.7767817
         ],
         "legendgroup": "Twitter",
         "lon": [
          -122.4167923
         ],
         "marker": {
          "color": "#EF553B"
         },
         "mode": "markers",
         "name": "Twitter",
         "showlegend": true,
         "subplot": "mapbox",
         "type": "scattermapbox"
        },
        {
         "customdata": [
          [
           "['RamMandir', 1]"
          ],
          [
           "['RamMandir', 1]"
          ]
         ],
         "hovertemplate": "<b>%{hovertext}</b><br><br>user_location=www.rahuleaswar.com<br>latitude=%{lat}<br>longitude=%{lon}<br>Hash_text=%{customdata[0]}<extra></extra>",
         "hovertext": [
          "RahulEaswar",
          "RahulEaswar"
         ],
         "lat": [
          null,
          null
         ],
         "legendgroup": "www.rahuleaswar.com",
         "lon": [
          null,
          null
         ],
         "marker": {
          "color": "#00cc96"
         },
         "mode": "markers",
         "name": "www.rahuleaswar.com",
         "showlegend": true,
         "subplot": "mapbox",
         "type": "scattermapbox"
        },
        {
         "customdata": [
          [
           "['RamMandir', 1, 'JaiSriRam', 2, 'RamJanmabhoomiMandir', 3]"
          ]
         ],
         "hovertemplate": "<b>%{hovertext}</b><br><br>user_location=Bangalore<br>latitude=%{lat}<br>longitude=%{lon}<br>Hash_text=%{customdata[0]}<extra></extra>",
         "hovertext": [
          "JCREDDYPK"
         ],
         "lat": [
          12.979119800000001
         ],
         "legendgroup": "Bangalore",
         "lon": [
          77.5912997
         ],
         "marker": {
          "color": "#ab63fa"
         },
         "mode": "markers",
         "name": "Bangalore",
         "showlegend": true,
         "subplot": "mapbox",
         "type": "scattermapbox"
        },
        {
         "customdata": [
          [
           "['RamMandir', 1, 'राममंदिर', 2, 'पधारो_राम_अयोध्या_धाम', 3, 'RevokePlacesOfWorshipAct', 4, 'RamMandir', 5]"
          ]
         ],
         "hovertemplate": "<b>%{hovertext}</b><br><br>user_location=🇫🇷🇩🇪🇪🇺<br>latitude=%{lat}<br>longitude=%{lon}<br>Hash_text=%{customdata[0]}<extra></extra>",
         "hovertext": [
          "LegalKant"
         ],
         "lat": [
          null
         ],
         "legendgroup": "🇫🇷🇩🇪🇪🇺",
         "lon": [
          null
         ],
         "marker": {
          "color": "#FFA15A"
         },
         "mode": "markers",
         "name": "🇫🇷🇩🇪🇪🇺",
         "showlegend": true,
         "subplot": "mapbox",
         "type": "scattermapbox"
        },
        {
         "customdata": [
          [
           "['I', 1, 'Modi', 2, 'Hindu', 3, 'muslim', 4, 'sanjaygandhi', 5, 'RamMandir', 6]"
          ]
         ],
         "hovertemplate": "<b>%{hovertext}</b><br><br>user_location=Varanasi, India<br>latitude=%{lat}<br>longitude=%{lon}<br>Hash_text=%{customdata[0]}<extra></extra>",
         "hovertext": [
          "Vatsal4748"
         ],
         "lat": [
          25.3356491
         ],
         "legendgroup": "Varanasi, India",
         "lon": [
          83.0076292
         ],
         "marker": {
          "color": "#19d3f3"
         },
         "mode": "markers",
         "name": "Varanasi, India",
         "showlegend": true,
         "subplot": "mapbox",
         "type": "scattermapbox"
        },
        {
         "customdata": [
          [
           "['RamMandir', 1, 'AyodhyaBhoomipoojan', 2]"
          ]
         ],
         "hovertemplate": "<b>%{hovertext}</b><br><br>user_location=Chandigarh, India<br>latitude=%{lat}<br>longitude=%{lon}<br>Hash_text=%{customdata[0]}<extra></extra>",
         "hovertext": [
          "PIBChandigarh"
         ],
         "lat": [
          30.733442100000005
         ],
         "legendgroup": "Chandigarh, India",
         "lon": [
          76.7797143
         ],
         "marker": {
          "color": "#FF6692"
         },
         "mode": "markers",
         "name": "Chandigarh, India",
         "showlegend": true,
         "subplot": "mapbox",
         "type": "scattermapbox"
        },
        {
         "customdata": [
          [
           "['RamMandirAyodhya', 1, 'RamMandir', 2]"
          ]
         ],
         "hovertemplate": "<b>%{hovertext}</b><br><br>user_location=Dillo me<br>latitude=%{lat}<br>longitude=%{lon}<br>Hash_text=%{customdata[0]}<extra></extra>",
         "hovertext": [
          "Saksham_Sanatan"
         ],
         "lat": [
          45.50032
         ],
         "legendgroup": "Dillo me",
         "lon": [
          -69.24977
         ],
         "marker": {
          "color": "#B6E880"
         },
         "mode": "markers",
         "name": "Dillo me",
         "showlegend": true,
         "subplot": "mapbox",
         "type": "scattermapbox"
        },
        {
         "customdata": [
          [
           "['AyodhyaBhoomipoojan', 1, 'RamMandir', 2, 'BabriZindaHai', 3, 'JaiShriRam', 4, 'जयश्रीराम', 5, 'पधारो_राम_अयोध्या_धाम', 6]"
          ]
         ],
         "hovertemplate": "<b>%{hovertext}</b><br><br>user_location=Amravati, India<br>latitude=%{lat}<br>longitude=%{lon}<br>Hash_text=%{customdata[0]}<extra></extra>",
         "hovertext": [
          "RoshanHMule1"
         ],
         "lat": [
          21.154541199999997
         ],
         "legendgroup": "Amravati, India",
         "lon": [
          77.6442962
         ],
         "marker": {
          "color": "#FF97FF"
         },
         "mode": "markers",
         "name": "Amravati, India",
         "showlegend": true,
         "subplot": "mapbox",
         "type": "scattermapbox"
        },
        {
         "customdata": [
          [
           "['RamMandir', 1]"
          ]
         ],
         "hovertemplate": "<b>%{hovertext}</b><br><br>user_location=Chittorgarh, Rajasthan<br>latitude=%{lat}<br>longitude=%{lon}<br>Hash_text=%{customdata[0]}<extra></extra>",
         "hovertext": [
          "GKPratibha"
         ],
         "lat": [
          24.8768151
         ],
         "legendgroup": "Chittorgarh, Rajasthan",
         "lon": [
          75.62942840000001
         ],
         "marker": {
          "color": "#FECB52"
         },
         "mode": "markers",
         "name": "Chittorgarh, Rajasthan",
         "showlegend": true,
         "subplot": "mapbox",
         "type": "scattermapbox"
        },
        {
         "customdata": [
          [
           "['RamMandir', 1]"
          ]
         ],
         "hovertemplate": "<b>%{hovertext}</b><br><br>user_location=New Delhi<br>latitude=%{lat}<br>longitude=%{lon}<br>Hash_text=%{customdata[0]}<extra></extra>",
         "hovertext": [
          "SaubhadraC"
         ],
         "lat": [
          28.613895399999997
         ],
         "legendgroup": "New Delhi",
         "lon": [
          77.2090057
         ],
         "marker": {
          "color": "#636efa"
         },
         "mode": "markers",
         "name": "New Delhi",
         "showlegend": true,
         "subplot": "mapbox",
         "type": "scattermapbox"
        },
        {
         "customdata": [
          [
           "['PoK', 1, 'RamMandir', 2]"
          ]
         ],
         "hovertemplate": "<b>%{hovertext}</b><br><br>user_location=Ajhuwa, India<br>latitude=%{lat}<br>longitude=%{lon}<br>Hash_text=%{customdata[0]}<extra></extra>",
         "hovertext": [
          "Agrahari_Puneet"
         ],
         "lat": [
          22
         ],
         "legendgroup": "Ajhuwa, India",
         "lon": [
          79
         ],
         "marker": {
          "color": "#EF553B"
         },
         "mode": "markers",
         "name": "Ajhuwa, India",
         "showlegend": true,
         "subplot": "mapbox",
         "type": "scattermapbox"
        },
        {
         "customdata": [
          [
           "['RamMandir', 1, 'Ayodhya', 2, 'Liberals', 3, 'Burnol', 4, 'JaiShreeRam', 5]"
          ]
         ],
         "hovertemplate": "<b>%{hovertext}</b><br><br>user_location=Mumbai, Delhi, Kolkata, India<br>latitude=%{lat}<br>longitude=%{lon}<br>Hash_text=%{customdata[0]}<extra></extra>",
         "hovertext": [
          "abhijitc4"
         ],
         "lat": [
          22.56263
         ],
         "legendgroup": "Mumbai, Delhi, Kolkata, India",
         "lon": [
          88.36304
         ],
         "marker": {
          "color": "#00cc96"
         },
         "mode": "markers",
         "name": "Mumbai, Delhi, Kolkata, India",
         "showlegend": true,
         "subplot": "mapbox",
         "type": "scattermapbox"
        },
        {
         "customdata": [
          [
           "['YOUM_E_ISTEHSAL', 1, 'PakistanStandsWithKashmir', 2, 'PrimeMinisterImranKhan', 3, 'EndIllegalSiegeofKashmir', 4, 'KashmirSiegeDay', 5, '5thAugustBlackDay', 6, 'KashmiriLivesMatter', 7, 'KashmirWantsFreedom', 8, 'IAmKashmirAmbassdor', 9, 'RamMandir', 10, 'BabriMasjid', 11, 'ModiDumpsFakeSecularism', 12]"
          ],
          [
           "['YOUM_E_ISTEHSAL', 1, 'PakistanStandsWithKashmir', 2, 'PrimeMinisterImranKhan', 3, 'EndIllegalSiegeofKashmir', 4, 'KashmirSiegeDay', 5, '5thAugustBlackDay', 6, 'KashmiriLivesMatter', 7, 'KashmirWantsFreedom', 8, 'IAmKashmirAmbassdor', 9, 'RamMandir', 10, 'BabriMasjid', 11, 'ModiDumpsFakeSecularism', 12]"
          ],
          [
           "['YOUM_E_ISTEHSAL', 1, 'PakistanStandsWithKashmir', 2, 'PrimeMinisterImranKhan', 3, 'EndIllegalSiegeofKashmir', 4, 'KashmirSiegeDay', 5, '5thAugustBlackDay', 6, 'KashmiriLivesMatter', 7, 'KashmirWantsFreedom', 8, 'IAmKashmirAmbassdor', 9, 'RamMandir', 10, 'BabriMasjid', 11, 'ModiDumpsFakeSecularism', 12]"
          ]
         ],
         "hovertemplate": "<b>%{hovertext}</b><br><br>user_location=Islamabad, Pakistan<br>latitude=%{lat}<br>longitude=%{lon}<br>Hash_text=%{customdata[0]}<extra></extra>",
         "hovertext": [
          "SafiKhanMagical",
          "SafiKhanMagical",
          "SafiKhanMagical"
         ],
         "lat": [
          33.6938118,
          33.6938118,
          33.6938118
         ],
         "legendgroup": "Islamabad, Pakistan",
         "lon": [
          73.0651511,
          73.0651511,
          73.0651511
         ],
         "marker": {
          "color": "#ab63fa"
         },
         "mode": "markers",
         "name": "Islamabad, Pakistan",
         "showlegend": true,
         "subplot": "mapbox",
         "type": "scattermapbox"
        },
        {
         "customdata": [
          [
           "['RamMandirAyodhya', 1, 'RamMandir', 2]"
          ]
         ],
         "hovertemplate": "<b>%{hovertext}</b><br><br>user_location=Sikkim, India<br>latitude=%{lat}<br>longitude=%{lon}<br>Hash_text=%{customdata[0]}<extra></extra>",
         "hovertext": [
          "prabeshsbaral3"
         ],
         "lat": [
          27.601028999999997
         ],
         "legendgroup": "Sikkim, India",
         "lon": [
          88.45413640000001
         ],
         "marker": {
          "color": "#FFA15A"
         },
         "mode": "markers",
         "name": "Sikkim, India",
         "showlegend": true,
         "subplot": "mapbox",
         "type": "scattermapbox"
        },
        {
         "customdata": [
          [
           "['RamMandir', 1]"
          ]
         ],
         "hovertemplate": "<b>%{hovertext}</b><br><br>user_location=London<br>latitude=%{lat}<br>longitude=%{lon}<br>Hash_text=%{customdata[0]}<extra></extra>",
         "hovertext": [
          "naresh_k"
         ],
         "lat": [
          51.5073219
         ],
         "legendgroup": "London",
         "lon": [
          -0.1276474
         ],
         "marker": {
          "color": "#19d3f3"
         },
         "mode": "markers",
         "name": "London",
         "showlegend": true,
         "subplot": "mapbox",
         "type": "scattermapbox"
        },
        {
         "customdata": [
          [
           "['BhumiPujan', 1, 'BhoomiPujan', 2, 'Ayodhya', 3, 'RamMandir', 4]"
          ]
         ],
         "hovertemplate": "<b>%{hovertext}</b><br><br>user_location=Home<br>latitude=%{lat}<br>longitude=%{lon}<br>Hash_text=%{customdata[0]}<extra></extra>",
         "hovertext": [
          "iBirajTalukder"
         ],
         "lat": [
          51.825378799999996
         ],
         "legendgroup": "Home",
         "lon": [
          9.0184079
         ],
         "marker": {
          "color": "#FF6692"
         },
         "mode": "markers",
         "name": "Home",
         "showlegend": true,
         "subplot": "mapbox",
         "type": "scattermapbox"
        },
        {
         "customdata": [
          [
           "['RamMandir', 1, 'CBIMustForSushant', 2]"
          ]
         ],
         "hovertemplate": "<b>%{hovertext}</b><br><br>user_location=Bihar, India<br>latitude=%{lat}<br>longitude=%{lon}<br>Hash_text=%{customdata[0]}<extra></extra>",
         "hovertext": [
          "CkSharm76895121"
         ],
         "lat": [
          25.6440845
         ],
         "legendgroup": "Bihar, India",
         "lon": [
          85.906508
         ],
         "marker": {
          "color": "#B6E880"
         },
         "mode": "markers",
         "name": "Bihar, India",
         "showlegend": true,
         "subplot": "mapbox",
         "type": "scattermapbox"
        }
       ],
       "layout": {
        "legend": {
         "title": {
          "text": "user_location"
         },
         "tracegroupgap": 0
        },
        "mapbox": {
         "center": {
          "lat": 23.661229925874125,
          "lon": 69.9262465097902
         },
         "domain": {
          "x": [
           0,
           1
          ],
          "y": [
           0,
           1
          ]
         },
         "style": "open-street-map",
         "zoom": 12
        },
        "margin": {
         "t": 60
        },
        "template": {
         "data": {
          "bar": [
           {
            "error_x": {
             "color": "#2a3f5f"
            },
            "error_y": {
             "color": "#2a3f5f"
            },
            "marker": {
             "line": {
              "color": "#E5ECF6",
              "width": 0.5
             }
            },
            "type": "bar"
           }
          ],
          "barpolar": [
           {
            "marker": {
             "line": {
              "color": "#E5ECF6",
              "width": 0.5
             }
            },
            "type": "barpolar"
           }
          ],
          "carpet": [
           {
            "aaxis": {
             "endlinecolor": "#2a3f5f",
             "gridcolor": "white",
             "linecolor": "white",
             "minorgridcolor": "white",
             "startlinecolor": "#2a3f5f"
            },
            "baxis": {
             "endlinecolor": "#2a3f5f",
             "gridcolor": "white",
             "linecolor": "white",
             "minorgridcolor": "white",
             "startlinecolor": "#2a3f5f"
            },
            "type": "carpet"
           }
          ],
          "choropleth": [
           {
            "colorbar": {
             "outlinewidth": 0,
             "ticks": ""
            },
            "type": "choropleth"
           }
          ],
          "contour": [
           {
            "colorbar": {
             "outlinewidth": 0,
             "ticks": ""
            },
            "colorscale": [
             [
              0,
              "#0d0887"
             ],
             [
              0.1111111111111111,
              "#46039f"
             ],
             [
              0.2222222222222222,
              "#7201a8"
             ],
             [
              0.3333333333333333,
              "#9c179e"
             ],
             [
              0.4444444444444444,
              "#bd3786"
             ],
             [
              0.5555555555555556,
              "#d8576b"
             ],
             [
              0.6666666666666666,
              "#ed7953"
             ],
             [
              0.7777777777777778,
              "#fb9f3a"
             ],
             [
              0.8888888888888888,
              "#fdca26"
             ],
             [
              1,
              "#f0f921"
             ]
            ],
            "type": "contour"
           }
          ],
          "contourcarpet": [
           {
            "colorbar": {
             "outlinewidth": 0,
             "ticks": ""
            },
            "type": "contourcarpet"
           }
          ],
          "heatmap": [
           {
            "colorbar": {
             "outlinewidth": 0,
             "ticks": ""
            },
            "colorscale": [
             [
              0,
              "#0d0887"
             ],
             [
              0.1111111111111111,
              "#46039f"
             ],
             [
              0.2222222222222222,
              "#7201a8"
             ],
             [
              0.3333333333333333,
              "#9c179e"
             ],
             [
              0.4444444444444444,
              "#bd3786"
             ],
             [
              0.5555555555555556,
              "#d8576b"
             ],
             [
              0.6666666666666666,
              "#ed7953"
             ],
             [
              0.7777777777777778,
              "#fb9f3a"
             ],
             [
              0.8888888888888888,
              "#fdca26"
             ],
             [
              1,
              "#f0f921"
             ]
            ],
            "type": "heatmap"
           }
          ],
          "heatmapgl": [
           {
            "colorbar": {
             "outlinewidth": 0,
             "ticks": ""
            },
            "colorscale": [
             [
              0,
              "#0d0887"
             ],
             [
              0.1111111111111111,
              "#46039f"
             ],
             [
              0.2222222222222222,
              "#7201a8"
             ],
             [
              0.3333333333333333,
              "#9c179e"
             ],
             [
              0.4444444444444444,
              "#bd3786"
             ],
             [
              0.5555555555555556,
              "#d8576b"
             ],
             [
              0.6666666666666666,
              "#ed7953"
             ],
             [
              0.7777777777777778,
              "#fb9f3a"
             ],
             [
              0.8888888888888888,
              "#fdca26"
             ],
             [
              1,
              "#f0f921"
             ]
            ],
            "type": "heatmapgl"
           }
          ],
          "histogram": [
           {
            "marker": {
             "colorbar": {
              "outlinewidth": 0,
              "ticks": ""
             }
            },
            "type": "histogram"
           }
          ],
          "histogram2d": [
           {
            "colorbar": {
             "outlinewidth": 0,
             "ticks": ""
            },
            "colorscale": [
             [
              0,
              "#0d0887"
             ],
             [
              0.1111111111111111,
              "#46039f"
             ],
             [
              0.2222222222222222,
              "#7201a8"
             ],
             [
              0.3333333333333333,
              "#9c179e"
             ],
             [
              0.4444444444444444,
              "#bd3786"
             ],
             [
              0.5555555555555556,
              "#d8576b"
             ],
             [
              0.6666666666666666,
              "#ed7953"
             ],
             [
              0.7777777777777778,
              "#fb9f3a"
             ],
             [
              0.8888888888888888,
              "#fdca26"
             ],
             [
              1,
              "#f0f921"
             ]
            ],
            "type": "histogram2d"
           }
          ],
          "histogram2dcontour": [
           {
            "colorbar": {
             "outlinewidth": 0,
             "ticks": ""
            },
            "colorscale": [
             [
              0,
              "#0d0887"
             ],
             [
              0.1111111111111111,
              "#46039f"
             ],
             [
              0.2222222222222222,
              "#7201a8"
             ],
             [
              0.3333333333333333,
              "#9c179e"
             ],
             [
              0.4444444444444444,
              "#bd3786"
             ],
             [
              0.5555555555555556,
              "#d8576b"
             ],
             [
              0.6666666666666666,
              "#ed7953"
             ],
             [
              0.7777777777777778,
              "#fb9f3a"
             ],
             [
              0.8888888888888888,
              "#fdca26"
             ],
             [
              1,
              "#f0f921"
             ]
            ],
            "type": "histogram2dcontour"
           }
          ],
          "mesh3d": [
           {
            "colorbar": {
             "outlinewidth": 0,
             "ticks": ""
            },
            "type": "mesh3d"
           }
          ],
          "parcoords": [
           {
            "line": {
             "colorbar": {
              "outlinewidth": 0,
              "ticks": ""
             }
            },
            "type": "parcoords"
           }
          ],
          "pie": [
           {
            "automargin": true,
            "type": "pie"
           }
          ],
          "scatter": [
           {
            "marker": {
             "colorbar": {
              "outlinewidth": 0,
              "ticks": ""
             }
            },
            "type": "scatter"
           }
          ],
          "scatter3d": [
           {
            "line": {
             "colorbar": {
              "outlinewidth": 0,
              "ticks": ""
             }
            },
            "marker": {
             "colorbar": {
              "outlinewidth": 0,
              "ticks": ""
             }
            },
            "type": "scatter3d"
           }
          ],
          "scattercarpet": [
           {
            "marker": {
             "colorbar": {
              "outlinewidth": 0,
              "ticks": ""
             }
            },
            "type": "scattercarpet"
           }
          ],
          "scattergeo": [
           {
            "marker": {
             "colorbar": {
              "outlinewidth": 0,
              "ticks": ""
             }
            },
            "type": "scattergeo"
           }
          ],
          "scattergl": [
           {
            "marker": {
             "colorbar": {
              "outlinewidth": 0,
              "ticks": ""
             }
            },
            "type": "scattergl"
           }
          ],
          "scattermapbox": [
           {
            "marker": {
             "colorbar": {
              "outlinewidth": 0,
              "ticks": ""
             }
            },
            "type": "scattermapbox"
           }
          ],
          "scatterpolar": [
           {
            "marker": {
             "colorbar": {
              "outlinewidth": 0,
              "ticks": ""
             }
            },
            "type": "scatterpolar"
           }
          ],
          "scatterpolargl": [
           {
            "marker": {
             "colorbar": {
              "outlinewidth": 0,
              "ticks": ""
             }
            },
            "type": "scatterpolargl"
           }
          ],
          "scatterternary": [
           {
            "marker": {
             "colorbar": {
              "outlinewidth": 0,
              "ticks": ""
             }
            },
            "type": "scatterternary"
           }
          ],
          "surface": [
           {
            "colorbar": {
             "outlinewidth": 0,
             "ticks": ""
            },
            "colorscale": [
             [
              0,
              "#0d0887"
             ],
             [
              0.1111111111111111,
              "#46039f"
             ],
             [
              0.2222222222222222,
              "#7201a8"
             ],
             [
              0.3333333333333333,
              "#9c179e"
             ],
             [
              0.4444444444444444,
              "#bd3786"
             ],
             [
              0.5555555555555556,
              "#d8576b"
             ],
             [
              0.6666666666666666,
              "#ed7953"
             ],
             [
              0.7777777777777778,
              "#fb9f3a"
             ],
             [
              0.8888888888888888,
              "#fdca26"
             ],
             [
              1,
              "#f0f921"
             ]
            ],
            "type": "surface"
           }
          ],
          "table": [
           {
            "cells": {
             "fill": {
              "color": "#EBF0F8"
             },
             "line": {
              "color": "white"
             }
            },
            "header": {
             "fill": {
              "color": "#C8D4E3"
             },
             "line": {
              "color": "white"
             }
            },
            "type": "table"
           }
          ]
         },
         "layout": {
          "annotationdefaults": {
           "arrowcolor": "#2a3f5f",
           "arrowhead": 0,
           "arrowwidth": 1
          },
          "coloraxis": {
           "colorbar": {
            "outlinewidth": 0,
            "ticks": ""
           }
          },
          "colorscale": {
           "diverging": [
            [
             0,
             "#8e0152"
            ],
            [
             0.1,
             "#c51b7d"
            ],
            [
             0.2,
             "#de77ae"
            ],
            [
             0.3,
             "#f1b6da"
            ],
            [
             0.4,
             "#fde0ef"
            ],
            [
             0.5,
             "#f7f7f7"
            ],
            [
             0.6,
             "#e6f5d0"
            ],
            [
             0.7,
             "#b8e186"
            ],
            [
             0.8,
             "#7fbc41"
            ],
            [
             0.9,
             "#4d9221"
            ],
            [
             1,
             "#276419"
            ]
           ],
           "sequential": [
            [
             0,
             "#0d0887"
            ],
            [
             0.1111111111111111,
             "#46039f"
            ],
            [
             0.2222222222222222,
             "#7201a8"
            ],
            [
             0.3333333333333333,
             "#9c179e"
            ],
            [
             0.4444444444444444,
             "#bd3786"
            ],
            [
             0.5555555555555556,
             "#d8576b"
            ],
            [
             0.6666666666666666,
             "#ed7953"
            ],
            [
             0.7777777777777778,
             "#fb9f3a"
            ],
            [
             0.8888888888888888,
             "#fdca26"
            ],
            [
             1,
             "#f0f921"
            ]
           ],
           "sequentialminus": [
            [
             0,
             "#0d0887"
            ],
            [
             0.1111111111111111,
             "#46039f"
            ],
            [
             0.2222222222222222,
             "#7201a8"
            ],
            [
             0.3333333333333333,
             "#9c179e"
            ],
            [
             0.4444444444444444,
             "#bd3786"
            ],
            [
             0.5555555555555556,
             "#d8576b"
            ],
            [
             0.6666666666666666,
             "#ed7953"
            ],
            [
             0.7777777777777778,
             "#fb9f3a"
            ],
            [
             0.8888888888888888,
             "#fdca26"
            ],
            [
             1,
             "#f0f921"
            ]
           ]
          },
          "colorway": [
           "#636efa",
           "#EF553B",
           "#00cc96",
           "#ab63fa",
           "#FFA15A",
           "#19d3f3",
           "#FF6692",
           "#B6E880",
           "#FF97FF",
           "#FECB52"
          ],
          "font": {
           "color": "#2a3f5f"
          },
          "geo": {
           "bgcolor": "white",
           "lakecolor": "white",
           "landcolor": "#E5ECF6",
           "showlakes": true,
           "showland": true,
           "subunitcolor": "white"
          },
          "hoverlabel": {
           "align": "left"
          },
          "hovermode": "closest",
          "mapbox": {
           "style": "light"
          },
          "paper_bgcolor": "white",
          "plot_bgcolor": "#E5ECF6",
          "polar": {
           "angularaxis": {
            "gridcolor": "white",
            "linecolor": "white",
            "ticks": ""
           },
           "bgcolor": "#E5ECF6",
           "radialaxis": {
            "gridcolor": "white",
            "linecolor": "white",
            "ticks": ""
           }
          },
          "scene": {
           "xaxis": {
            "backgroundcolor": "#E5ECF6",
            "gridcolor": "white",
            "gridwidth": 2,
            "linecolor": "white",
            "showbackground": true,
            "ticks": "",
            "zerolinecolor": "white"
           },
           "yaxis": {
            "backgroundcolor": "#E5ECF6",
            "gridcolor": "white",
            "gridwidth": 2,
            "linecolor": "white",
            "showbackground": true,
            "ticks": "",
            "zerolinecolor": "white"
           },
           "zaxis": {
            "backgroundcolor": "#E5ECF6",
            "gridcolor": "white",
            "gridwidth": 2,
            "linecolor": "white",
            "showbackground": true,
            "ticks": "",
            "zerolinecolor": "white"
           }
          },
          "shapedefaults": {
           "line": {
            "color": "#2a3f5f"
           }
          },
          "ternary": {
           "aaxis": {
            "gridcolor": "white",
            "linecolor": "white",
            "ticks": ""
           },
           "baxis": {
            "gridcolor": "white",
            "linecolor": "white",
            "ticks": ""
           },
           "bgcolor": "#E5ECF6",
           "caxis": {
            "gridcolor": "white",
            "linecolor": "white",
            "ticks": ""
           }
          },
          "title": {
           "x": 0.05
          },
          "xaxis": {
           "automargin": true,
           "gridcolor": "white",
           "linecolor": "white",
           "ticks": "",
           "title": {
            "standoff": 15
           },
           "zerolinecolor": "white",
           "zerolinewidth": 2
          },
          "yaxis": {
           "automargin": true,
           "gridcolor": "white",
           "linecolor": "white",
           "ticks": "",
           "title": {
            "standoff": 15
           },
           "zerolinecolor": "white",
           "zerolinewidth": 2
          }
         }
        }
       }
      }
     },
     "metadata": {}
    }
   ],
   "source": [
    "fig.update_layout(mapbox_style=\"open-street-map\") \n",
    "fig.show()"
   ]
  },
  {
   "cell_type": "code",
   "execution_count": null,
   "metadata": {},
   "outputs": [],
   "source": []
  },
  {
   "cell_type": "code",
   "execution_count": null,
   "metadata": {},
   "outputs": [],
   "source": []
  },
  {
   "cell_type": "code",
   "execution_count": null,
   "metadata": {},
   "outputs": [],
   "source": []
  }
 ]
}